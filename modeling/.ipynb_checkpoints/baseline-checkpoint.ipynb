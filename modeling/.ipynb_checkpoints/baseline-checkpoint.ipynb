{
 "cells": [
  {
   "cell_type": "markdown",
   "metadata": {
    "id": "acbetMKBt825"
   },
   "source": [
    "<div align=\"center\">\n",
    "<h1><img width=\"30\" src=\"https://madewithml.com/static/images/rounded_logo.png\">&nbsp;<a href=\"https://madewithml.com/\">Made With ML</a></h1>\n",
    "Applied ML · MLOps · Production\n",
    "<br>\n",
    "Join 30K+ developers in learning how to responsibly develop, deploy and maintain ML.\n",
    "    <br>\n",
    "</div>\n",
    "\n",
    "<br>\n",
    "\n",
    "<div align=\"center\">\n",
    "    <a target=\"_blank\" href=\"https://madewithml.com\"><img src=\"https://img.shields.io/badge/Subscribe-30K-brightgreen\"></a>&nbsp;\n",
    "    <a target=\"_blank\" href=\"https://github.com/GokuMohandas/MadeWithML\"><img src=\"https://img.shields.io/github/stars/GokuMohandas/MadeWithML.svg?style=social&label=Star\"></a>&nbsp;\n",
    "    <a target=\"_blank\" href=\"https://www.linkedin.com/in/goku\"><img src=\"https://img.shields.io/badge/style--5eba00.svg?label=LinkedIn&logo=linkedin&style=social\"></a>&nbsp;\n",
    "    <a target=\"_blank\" href=\"https://twitter.com/GokuMohandas\"><img src=\"https://img.shields.io/twitter/follow/GokuMohandas.svg?label=Follow&style=social\"></a>\n",
    "    <br>\n",
    "    🔥&nbsp; Among the <a href=\"https://github.com/GokuMohandas/MadeWithML\" target=\"_blank\">top MLOps</a> repositories on GitHub\n",
    "</div>\n",
    "\n",
    "<br>\n",
    "<hr>"
   ]
  },
  {
   "cell_type": "markdown",
   "metadata": {
    "id": "oh-HuNfDrPg0"
   },
   "source": [
    "This notebooks contains the code for the 🔢&nbsp; Data and 📈&nbsp; Modeling lessons. After this proof of concept (PoC), we'll be moving all of this code to Python scripts and add interfacing, testing, etc. Follow the accompanying [lessons](https://madewithml.com/courses/mlops) as opposed to just running the code here to really develop an intuition for all concepts."
   ]
  },
  {
   "cell_type": "markdown",
   "metadata": {
    "id": "XTNsIiUrqoJW"
   },
   "source": [
    "<div align=\"left\">\n",
    "<a target=\"_blank\" href=\"https://madewithml.com/#mlops\"><img src=\"https://img.shields.io/badge/📖 Read-lessons-9cf\"></a>&nbsp;\n",
    "<a href=\"https://github.com/GokuMohandas/mlops-course/blob/main/notebooks/tagifai.ipynb\" role=\"button\"><img src=\"https://img.shields.io/static/v1?label=&amp;message=View%20On%20GitHub&amp;color=586069&amp;logo=github&amp;labelColor=2f363d\"></a>&nbsp;\n",
    "<a href=\"https://colab.research.google.com/github/GokuMohandas/mlops-course/blob/main/notebooks/tagifai.ipynb\"><img src=\"https://colab.research.google.com/assets/colab-badge.svg\" alt=\"Open In Colab\"></a>\n",
    "</div>"
   ]
  },
  {
   "cell_type": "markdown",
   "metadata": {
    "id": "sTfxIhHL-oxI"
   },
   "source": [
    "> We highly recommend running this notebook on [Google Colab](https://colab.research.google.com/github/GokuMohandas/mlops-course/blob/main/notebooks/tagifai.ipynb) but if you want to run locally, you'll need to install the following:\n",
    "```python\n",
    "!pip install numpy==1.19.5 pandas==1.3.5 ipywidgets==7.7.0 \\\n",
    "             matplotlib==3.5.2 seaborn==0.11.2 wordcloud==1.8.1 \\\n",
    "             scikit-learn==0.24.2 -q\n",
    "```"
   ]
  },
  {
   "cell_type": "code",
   "execution_count": 2,
   "metadata": {},
   "outputs": [],
   "source": [
    "#Adding MadewithML Jupyter Kernel\n",
    "# !ipython kernel install --user --name=MadewithML"
   ]
  },
  {
   "cell_type": "code",
   "execution_count": 3,
   "metadata": {},
   "outputs": [],
   "source": [
    "# !pip freeze > Requirements.txt"
   ]
  },
  {
   "cell_type": "markdown",
   "metadata": {
    "id": "lbqAqitENkSU"
   },
   "source": [
    "# 🔢&nbsp; Data"
   ]
  },
  {
   "cell_type": "markdown",
   "metadata": {
    "id": "ehvYZottsPpW"
   },
   "source": [
    "## Labeling"
   ]
  },
  {
   "cell_type": "code",
   "execution_count": null,
   "metadata": {},
   "outputs": [],
   "source": []
  },
  {
   "cell_type": "markdown",
   "metadata": {
    "id": "xWHMj0wYHYed"
   },
   "source": [
    "For the purpose of this course, our data is already labeled, so we'll perform a basic version of ETL (extract, transform, load) to construct the labeled dataset. However, labeling can be a time intensive process so it's very important to understand all its different facets so that we can have efficient labeling workflows. Learn more about labeling in our comprehnsive [labeling lesson](https://madewithml.com/courses/mlops/labeling/). \n",
    "\n",
    "We'll start by loading our data assets that we'll be working on. \n",
    "\n",
    "- [projects.csv](https://github.com/GokuMohandas/Made-With-ML/tree/main/datasets/projects.csv): projects with id, created time, title and description.\n",
    "- [tags.csv](https://github.com/GokuMohandas/Made-With-ML/tree/main/datasets/tags.csv): labels (tag category) for the projects by id.\n",
    "\n",
    "> Recall that our [objective](https://madewithml.com/courses/mlops/design#objectives) was to classify incoming content so that the community can discover them easily. These data assets will act as the training data for our first model."
   ]
  },
  {
   "cell_type": "markdown",
   "metadata": {
    "id": "VXEli9wXr58D"
   },
   "source": [
    "**Extract**\n",
    "\n",
    "We'll start by extracting data from our sources (external CSV files). Traditionally, our data assets will be stored, versioned and updated in a database, warehouse, etc. We'll learn more about these different [data systems](https://madewithml.com/courses/mlops/data-stack/) later, but for now, we'll load our data as a stand-alone CSV file."
   ]
  },
  {
   "cell_type": "code",
   "execution_count": 4,
   "metadata": {
    "id": "VdrrsquiNkSU"
   },
   "outputs": [],
   "source": [
    "import pandas as pd"
   ]
  },
  {
   "cell_type": "code",
   "execution_count": 5,
   "metadata": {
    "colab": {
     "base_uri": "https://localhost:8080/",
     "height": 206
    },
    "id": "WB-2nm6NNkSU",
    "outputId": "bd52a4c5-68f1-4d4c-9108-24772b5c7fe3"
   },
   "outputs": [
    {
     "data": {
      "text/html": [
       "<div>\n",
       "<style scoped>\n",
       "    .dataframe tbody tr th:only-of-type {\n",
       "        vertical-align: middle;\n",
       "    }\n",
       "\n",
       "    .dataframe tbody tr th {\n",
       "        vertical-align: top;\n",
       "    }\n",
       "\n",
       "    .dataframe thead th {\n",
       "        text-align: right;\n",
       "    }\n",
       "</style>\n",
       "<table border=\"1\" class=\"dataframe\">\n",
       "  <thead>\n",
       "    <tr style=\"text-align: right;\">\n",
       "      <th></th>\n",
       "      <th>id</th>\n",
       "      <th>created_on</th>\n",
       "      <th>title</th>\n",
       "      <th>description</th>\n",
       "    </tr>\n",
       "  </thead>\n",
       "  <tbody>\n",
       "    <tr>\n",
       "      <th>0</th>\n",
       "      <td>6</td>\n",
       "      <td>2020-02-20 06:43:18</td>\n",
       "      <td>Comparison between YOLO and RCNN on real world...</td>\n",
       "      <td>Bringing theory to experiment is cool. We can ...</td>\n",
       "    </tr>\n",
       "    <tr>\n",
       "      <th>1</th>\n",
       "      <td>7</td>\n",
       "      <td>2020-02-20 06:47:21</td>\n",
       "      <td>Show, Infer &amp; Tell: Contextual Inference for C...</td>\n",
       "      <td>The beauty of the work lies in the way it arch...</td>\n",
       "    </tr>\n",
       "    <tr>\n",
       "      <th>2</th>\n",
       "      <td>9</td>\n",
       "      <td>2020-02-24 16:24:45</td>\n",
       "      <td>Awesome Graph Classification</td>\n",
       "      <td>A collection of important graph embedding, cla...</td>\n",
       "    </tr>\n",
       "    <tr>\n",
       "      <th>3</th>\n",
       "      <td>15</td>\n",
       "      <td>2020-02-28 23:55:26</td>\n",
       "      <td>Awesome Monte Carlo Tree Search</td>\n",
       "      <td>A curated list of Monte Carlo tree search pape...</td>\n",
       "    </tr>\n",
       "    <tr>\n",
       "      <th>4</th>\n",
       "      <td>19</td>\n",
       "      <td>2020-03-03 13:54:31</td>\n",
       "      <td>Diffusion to Vector</td>\n",
       "      <td>Reference implementation of Diffusion2Vec (Com...</td>\n",
       "    </tr>\n",
       "  </tbody>\n",
       "</table>\n",
       "</div>"
      ],
      "text/plain": [
       "   id           created_on                                              title  \\\n",
       "0   6  2020-02-20 06:43:18  Comparison between YOLO and RCNN on real world...   \n",
       "1   7  2020-02-20 06:47:21  Show, Infer & Tell: Contextual Inference for C...   \n",
       "2   9  2020-02-24 16:24:45                       Awesome Graph Classification   \n",
       "3  15  2020-02-28 23:55:26                    Awesome Monte Carlo Tree Search   \n",
       "4  19  2020-03-03 13:54:31                                Diffusion to Vector   \n",
       "\n",
       "                                         description  \n",
       "0  Bringing theory to experiment is cool. We can ...  \n",
       "1  The beauty of the work lies in the way it arch...  \n",
       "2  A collection of important graph embedding, cla...  \n",
       "3  A curated list of Monte Carlo tree search pape...  \n",
       "4  Reference implementation of Diffusion2Vec (Com...  "
      ]
     },
     "execution_count": 5,
     "metadata": {},
     "output_type": "execute_result"
    }
   ],
   "source": [
    "# Extract projects\n",
    "PROJECTS_URL = \"https://raw.githubusercontent.com/GokuMohandas/Made-With-ML/main/datasets/projects.csv\"\n",
    "projects = pd.read_csv(PROJECTS_URL)\n",
    "projects.head(5)"
   ]
  },
  {
   "cell_type": "markdown",
   "metadata": {
    "id": "6oqbgBSmPseX"
   },
   "source": [
    "We'll also load the labels (tag category) for our projects."
   ]
  },
  {
   "cell_type": "code",
   "execution_count": 123,
   "metadata": {
    "colab": {
     "base_uri": "https://localhost:8080/",
     "height": 206
    },
    "id": "_D5xE4efHJKU",
    "outputId": "19512f4e-ae08-4dc0-bdef-3e8bc3f820fd"
   },
   "outputs": [
    {
     "data": {
      "text/html": [
       "<div>\n",
       "<style scoped>\n",
       "    .dataframe tbody tr th:only-of-type {\n",
       "        vertical-align: middle;\n",
       "    }\n",
       "\n",
       "    .dataframe tbody tr th {\n",
       "        vertical-align: top;\n",
       "    }\n",
       "\n",
       "    .dataframe thead th {\n",
       "        text-align: right;\n",
       "    }\n",
       "</style>\n",
       "<table border=\"1\" class=\"dataframe\">\n",
       "  <thead>\n",
       "    <tr style=\"text-align: right;\">\n",
       "      <th></th>\n",
       "      <th>id</th>\n",
       "      <th>tag</th>\n",
       "    </tr>\n",
       "  </thead>\n",
       "  <tbody>\n",
       "    <tr>\n",
       "      <th>0</th>\n",
       "      <td>6</td>\n",
       "      <td>computer-vision</td>\n",
       "    </tr>\n",
       "    <tr>\n",
       "      <th>1</th>\n",
       "      <td>7</td>\n",
       "      <td>computer-vision</td>\n",
       "    </tr>\n",
       "    <tr>\n",
       "      <th>2</th>\n",
       "      <td>9</td>\n",
       "      <td>graph-learning</td>\n",
       "    </tr>\n",
       "    <tr>\n",
       "      <th>3</th>\n",
       "      <td>15</td>\n",
       "      <td>reinforcement-learning</td>\n",
       "    </tr>\n",
       "    <tr>\n",
       "      <th>4</th>\n",
       "      <td>19</td>\n",
       "      <td>graph-learning</td>\n",
       "    </tr>\n",
       "  </tbody>\n",
       "</table>\n",
       "</div>"
      ],
      "text/plain": [
       "   id                     tag\n",
       "0   6         computer-vision\n",
       "1   7         computer-vision\n",
       "2   9          graph-learning\n",
       "3  15  reinforcement-learning\n",
       "4  19          graph-learning"
      ]
     },
     "execution_count": 123,
     "metadata": {},
     "output_type": "execute_result"
    }
   ],
   "source": [
    "# Extract tags\n",
    "TAGS_URL = \"https://raw.githubusercontent.com/GokuMohandas/Made-With-ML/main/datasets/tags.csv\"\n",
    "tags = pd.read_csv(TAGS_URL)\n",
    "tags.head(5)"
   ]
  },
  {
   "cell_type": "markdown",
   "metadata": {
    "id": "sDQSvqC2DGwQ"
   },
   "source": [
    "**Transform**\n",
    "\n",
    "Apply basic transformations to create our labeled dataset."
   ]
  },
  {
   "cell_type": "code",
   "execution_count": 7,
   "metadata": {
    "colab": {
     "base_uri": "https://localhost:8080/",
     "height": 337
    },
    "id": "v_TXbrshDPeQ",
    "outputId": "25304908-d923-4afa-d17d-9369adbb4250"
   },
   "outputs": [
    {
     "data": {
      "text/html": [
       "<div>\n",
       "<style scoped>\n",
       "    .dataframe tbody tr th:only-of-type {\n",
       "        vertical-align: middle;\n",
       "    }\n",
       "\n",
       "    .dataframe tbody tr th {\n",
       "        vertical-align: top;\n",
       "    }\n",
       "\n",
       "    .dataframe thead th {\n",
       "        text-align: right;\n",
       "    }\n",
       "</style>\n",
       "<table border=\"1\" class=\"dataframe\">\n",
       "  <thead>\n",
       "    <tr style=\"text-align: right;\">\n",
       "      <th></th>\n",
       "      <th>id</th>\n",
       "      <th>created_on</th>\n",
       "      <th>title</th>\n",
       "      <th>description</th>\n",
       "      <th>tag</th>\n",
       "    </tr>\n",
       "  </thead>\n",
       "  <tbody>\n",
       "    <tr>\n",
       "      <th>0</th>\n",
       "      <td>6</td>\n",
       "      <td>2020-02-20 06:43:18</td>\n",
       "      <td>Comparison between YOLO and RCNN on real world...</td>\n",
       "      <td>Bringing theory to experiment is cool. We can ...</td>\n",
       "      <td>computer-vision</td>\n",
       "    </tr>\n",
       "    <tr>\n",
       "      <th>1</th>\n",
       "      <td>7</td>\n",
       "      <td>2020-02-20 06:47:21</td>\n",
       "      <td>Show, Infer &amp; Tell: Contextual Inference for C...</td>\n",
       "      <td>The beauty of the work lies in the way it arch...</td>\n",
       "      <td>computer-vision</td>\n",
       "    </tr>\n",
       "    <tr>\n",
       "      <th>2</th>\n",
       "      <td>9</td>\n",
       "      <td>2020-02-24 16:24:45</td>\n",
       "      <td>Awesome Graph Classification</td>\n",
       "      <td>A collection of important graph embedding, cla...</td>\n",
       "      <td>graph-learning</td>\n",
       "    </tr>\n",
       "    <tr>\n",
       "      <th>3</th>\n",
       "      <td>15</td>\n",
       "      <td>2020-02-28 23:55:26</td>\n",
       "      <td>Awesome Monte Carlo Tree Search</td>\n",
       "      <td>A curated list of Monte Carlo tree search pape...</td>\n",
       "      <td>reinforcement-learning</td>\n",
       "    </tr>\n",
       "    <tr>\n",
       "      <th>4</th>\n",
       "      <td>19</td>\n",
       "      <td>2020-03-03 13:54:31</td>\n",
       "      <td>Diffusion to Vector</td>\n",
       "      <td>Reference implementation of Diffusion2Vec (Com...</td>\n",
       "      <td>graph-learning</td>\n",
       "    </tr>\n",
       "  </tbody>\n",
       "</table>\n",
       "</div>"
      ],
      "text/plain": [
       "   id           created_on                                              title  \\\n",
       "0   6  2020-02-20 06:43:18  Comparison between YOLO and RCNN on real world...   \n",
       "1   7  2020-02-20 06:47:21  Show, Infer & Tell: Contextual Inference for C...   \n",
       "2   9  2020-02-24 16:24:45                       Awesome Graph Classification   \n",
       "3  15  2020-02-28 23:55:26                    Awesome Monte Carlo Tree Search   \n",
       "4  19  2020-03-03 13:54:31                                Diffusion to Vector   \n",
       "\n",
       "                                         description                     tag  \n",
       "0  Bringing theory to experiment is cool. We can ...         computer-vision  \n",
       "1  The beauty of the work lies in the way it arch...         computer-vision  \n",
       "2  A collection of important graph embedding, cla...          graph-learning  \n",
       "3  A curated list of Monte Carlo tree search pape...  reinforcement-learning  \n",
       "4  Reference implementation of Diffusion2Vec (Com...          graph-learning  "
      ]
     },
     "execution_count": 7,
     "metadata": {},
     "output_type": "execute_result"
    }
   ],
   "source": [
    "# Join projects and tags\n",
    "df = pd.merge(projects, tags, on=\"id\")\n",
    "df.head()"
   ]
  },
  {
   "cell_type": "code",
   "execution_count": 8,
   "metadata": {
    "id": "sq0Wj0YlHJWj"
   },
   "outputs": [],
   "source": [
    "# Remove projects with no tag\n",
    "df = df[df.tag.notnull()]"
   ]
  },
  {
   "cell_type": "markdown",
   "metadata": {
    "id": "ri-j4fd-s-He"
   },
   "source": [
    "**Load**\n",
    "\n",
    "Finally, we'll load our transformed data locally so that we can use it for our machine learning application."
   ]
  },
  {
   "cell_type": "code",
   "execution_count": 9,
   "metadata": {
    "id": "2c3oNd0gtKDu"
   },
   "outputs": [],
   "source": [
    "# Save locally\n",
    "df.to_csv(\"labeled_projects.csv\", index=False)"
   ]
  },
  {
   "cell_type": "markdown",
   "metadata": {
    "id": "WuCrsbxbNkSV"
   },
   "source": [
    "## Exploration (EDA)"
   ]
  },
  {
   "cell_type": "markdown",
   "metadata": {
    "id": "eOJ3nlEgnSTJ"
   },
   "source": [
    "Exploratory data analysis to understand the signals and nuances of our dataset. It's a cyclical process that can be done at various points of our development process (before/after labeling, preprocessing, etc. depending on how well the problem is defined. For example, if we're unsure how to label or preprocess our data, we can use EDA to figure it out."
   ]
  },
  {
   "cell_type": "code",
   "execution_count": 10,
   "metadata": {
    "id": "tHdQmqTBNkSV"
   },
   "outputs": [],
   "source": [
    "from collections import Counter\n",
    "import ipywidgets as widgets\n",
    "import matplotlib.pyplot as plt\n",
    "import seaborn as sns\n",
    "import warnings\n",
    "from wordcloud import WordCloud, STOPWORDS\n",
    "sns.set_theme()\n",
    "warnings.filterwarnings(\"ignore\")"
   ]
  },
  {
   "cell_type": "code",
   "execution_count": 124,
   "metadata": {
    "colab": {
     "base_uri": "https://localhost:8080/",
     "height": 445
    },
    "id": "5JuX5Ju-NkSV",
    "outputId": "e77a72ab-5037-494b-c118-08c09aa7b061"
   },
   "outputs": [
    {
     "data": {
      "image/png": "[encoded data removed]",
      "text/plain": [
       "<Figure size 1000x300 with 1 Axes>"
      ]
     },
     "metadata": {},
     "output_type": "display_data"
    }
   ],
   "source": [
    "# Distribution of tags\n",
    "tags, tag_counts = zip(*Counter(df.tag.values).most_common())\n",
    "plt.figure(figsize=(10, 3))\n",
    "ax = sns.barplot(x=list(tags), y=list(tag_counts))\n",
    "plt.title(\"Tag distribution\", fontsize=20)\n",
    "plt.xlabel(\"Tag\", fontsize=16)\n",
    "ax.set_xticklabels(tags, rotation=90, fontsize=14)\n",
    "plt.ylabel(\"Number of projects\", fontsize=16)\n",
    "plt.show()"
   ]
  },
  {
   "cell_type": "code",
   "execution_count": 125,
   "metadata": {
    "colab": {
     "base_uri": "https://localhost:8080/"
    },
    "id": "Gl-E8d2HaCsx",
    "outputId": "2800e272-2233-402d-a926-f992663edfcf"
   },
   "outputs": [
    {
     "data": {
      "text/plain": [
       "[('natural-language-processing', 388),\n",
       " ('computer-vision', 356),\n",
       " ('other', 87),\n",
       " ('mlops', 79),\n",
       " ('graph-learning', 45)]"
      ]
     },
     "execution_count": 125,
     "metadata": {},
     "output_type": "execute_result"
    }
   ],
   "source": [
    "# Most common tags\n",
    "tags = Counter(df.tag.values)\n",
    "tags.most_common()"
   ]
  },
  {
   "cell_type": "markdown",
   "metadata": {
    "id": "pfjVstecaFC5"
   },
   "source": [
    "> We'll address the [data imbalance](https://madewithml.com/courses/mlops/baselines#data-imbalance) after splitting into our train split and prior to training our model."
   ]
  },
  {
   "cell_type": "code",
   "execution_count": 13,
   "metadata": {
    "colab": {
     "base_uri": "https://localhost:8080/",
     "height": 335,
     "referenced_widgets": [
      "68d2d514d85b40629115f4f2ca3e3406",
      "c6d87d95cca841aba71fb8009a5228b3",
      "9969312a5d134e699d0537eb21101bd1",
      "11fddde0ce614d37b98e4e8b254c5900",
      "be8a0a0f1f624a64bf5d75f59eb47948",
      "62236c22596e4dbd890124673edc88f7",
      "cc6c23f00ab7435f931783fddaa1f895"
     ]
    },
    "id": "NgMGuIQrNkSV",
    "outputId": "3b91ac7c-5a70-4c1e-c591-94c9ac3e9f3d"
   },
   "outputs": [
    {
     "data": {
      "application/vnd.jupyter.widget-view+json": {
       "model_id": "564239f8d07a48e6b25b8f4976ef9869",
       "version_major": 2,
       "version_minor": 0
      },
      "text/plain": [
       "interactive(children=(Dropdown(description='tag', index=3, options=('computer-vision', 'graph-learning', 'rein…"
      ]
     },
     "metadata": {},
     "output_type": "display_data"
    }
   ],
   "source": [
    "# Most frequent tokens for each tag\n",
    "@widgets.interact(tag=list(tags))\n",
    "def display_word_cloud(tag=\"natural-language-processing\"):\n",
    "    # Plot word clouds top top tags\n",
    "    plt.figure(figsize=(15, 5))\n",
    "    subset = df[df.tag==tag]\n",
    "    text = subset.title.values\n",
    "    cloud = WordCloud(\n",
    "        stopwords=STOPWORDS, background_color=\"black\", collocations=False,\n",
    "        width=500, height=300).generate(\" \".join(text))\n",
    "    plt.axis(\"off\")\n",
    "    plt.imshow(cloud)"
   ]
  },
  {
   "cell_type": "markdown",
   "metadata": {
    "id": "b8ua3MFhrOaX"
   },
   "source": [
    "Looks like the `title` text feature has some good signal for the respective classes and matches our intuition. We can repeat this for the `description` text feature as well. This information will become useful when we decide how to use our features for modeling."
   ]
  },
  {
   "cell_type": "markdown",
   "metadata": {
    "id": "HFifXKl_eKsN"
   },
   "source": [
    "## Preprocessing"
   ]
  },
  {
   "cell_type": "markdown",
   "metadata": {
    "id": "RxAZ1AmteRaD"
   },
   "source": [
    "Preprocessing the data via feature engineering, filtering and cleaning. Certain preprocessing steps are global (don't depend on our dataset, ex. lower casing text, removing stop words, etc.) and others are local (constructs are learned only from the training split, ex. vocabulary, standardization, etc.). For the local, dataset-dependent preprocessing steps, we want to ensure that we [split](https://madewithml.com/courses/mlops/splitting) the data first before preprocessing to avoid data leaks."
   ]
  },
  {
   "cell_type": "markdown",
   "metadata": {
    "id": "6VgTwEQboTGc"
   },
   "source": [
    "### Feature engineering"
   ]
  },
  {
   "cell_type": "markdown",
   "metadata": {
    "id": "U_001GPyMZsC"
   },
   "source": [
    "We can combine existing input features to create new meaningful signal (helping the model learn). "
   ]
  },
  {
   "cell_type": "code",
   "execution_count": 14,
   "metadata": {
    "id": "3x1ldAFQNkSU"
   },
   "outputs": [],
   "source": [
    "# Feature engineering\n",
    "df[\"text\"] = df.title + \" \" + df.description"
   ]
  },
  {
   "cell_type": "markdown",
   "metadata": {
    "id": "vNsRidGHoWMs"
   },
   "source": [
    "### Cleaning"
   ]
  },
  {
   "cell_type": "markdown",
   "metadata": {
    "id": "8_f1LpKpMwzO"
   },
   "source": [
    "Since we're dealing with text data, we can apply some of the common text preprocessing steps:"
   ]
  },
  {
   "cell_type": "code",
   "execution_count": 15,
   "metadata": {
    "id": "mXIRHqYJjW17"
   },
   "outputs": [
    {
     "name": "stderr",
     "output_type": "stream",
     "text": [
      "WARNING: Ignoring invalid distribution -matplotlib (c:\\users\\acer\\appdata\\local\\programs\\python\\python39\\lib\\site-packages)\n",
      "WARNING: Ignoring invalid distribution -atplotlib (c:\\users\\acer\\appdata\\local\\programs\\python\\python39\\lib\\site-packages)\n",
      "WARNING: Ignoring invalid distribution -matplotlib (c:\\users\\acer\\appdata\\local\\programs\\python\\python39\\lib\\site-packages)\n",
      "WARNING: Ignoring invalid distribution -atplotlib (c:\\users\\acer\\appdata\\local\\programs\\python\\python39\\lib\\site-packages)\n",
      "WARNING: Ignoring invalid distribution -matplotlib (c:\\users\\acer\\appdata\\local\\programs\\python\\python39\\lib\\site-packages)\n",
      "WARNING: Ignoring invalid distribution -atplotlib (c:\\users\\acer\\appdata\\local\\programs\\python\\python39\\lib\\site-packages)\n",
      "WARNING: Ignoring invalid distribution -matplotlib (c:\\users\\acer\\appdata\\local\\programs\\python\\python39\\lib\\site-packages)\n",
      "WARNING: Ignoring invalid distribution -atplotlib (c:\\users\\acer\\appdata\\local\\programs\\python\\python39\\lib\\site-packages)\n",
      "WARNING: Ignoring invalid distribution -matplotlib (c:\\users\\acer\\appdata\\local\\programs\\python\\python39\\lib\\site-packages)\n",
      "WARNING: Ignoring invalid distribution -atplotlib (c:\\users\\acer\\appdata\\local\\programs\\python\\python39\\lib\\site-packages)\n",
      "WARNING: Ignoring invalid distribution -matplotlib (c:\\users\\acer\\appdata\\local\\programs\\python\\python39\\lib\\site-packages)\n",
      "WARNING: Ignoring invalid distribution -atplotlib (c:\\users\\acer\\appdata\\local\\programs\\python\\python39\\lib\\site-packages)\n",
      "\n",
      "[notice] A new release of pip is available: 23.0.1 -> 23.1.2\n",
      "[notice] To update, run: python.exe -m pip install --upgrade pip\n"
     ]
    }
   ],
   "source": [
    "!pip install nltk==3.7 -q"
   ]
  },
  {
   "cell_type": "code",
   "execution_count": 16,
   "metadata": {
    "id": "CT8ThMrMhUVB"
   },
   "outputs": [],
   "source": [
    "import json\n",
    "import nltk\n",
    "from nltk.corpus import stopwords\n",
    "from nltk.stem import PorterStemmer\n",
    "import re"
   ]
  },
  {
   "cell_type": "code",
   "execution_count": 17,
   "metadata": {
    "colab": {
     "base_uri": "https://localhost:8080/"
    },
    "id": "VDXLH6QeLd0F",
    "outputId": "e3bf25b3-5d21-4844-ee31-b403d5086538"
   },
   "outputs": [
    {
     "name": "stderr",
     "output_type": "stream",
     "text": [
      "[nltk_data] Downloading package stopwords to\n",
      "[nltk_data]     C:\\Users\\ACER\\AppData\\Roaming\\nltk_data...\n",
      "[nltk_data]   Package stopwords is already up-to-date!\n"
     ]
    }
   ],
   "source": [
    "nltk.download(\"stopwords\")\n",
    "STOPWORDS = stopwords.words(\"english\")\n",
    "stemmer = PorterStemmer()"
   ]
  },
  {
   "cell_type": "code",
   "execution_count": 18,
   "metadata": {
    "id": "VfdWkkV8LlNR"
   },
   "outputs": [],
   "source": [
    "def clean_text(text, lower=True, stem=False, stopwords=STOPWORDS):\n",
    "    \"\"\"Clean raw text.\"\"\"\n",
    "    # Lower\n",
    "    if lower: \n",
    "        text = text.lower()\n",
    "\n",
    "    # Remove stopwords\n",
    "    if len(stopwords):\n",
    "        pattern = re.compile(r'\\b(' + r\"|\".join(stopwords) + r\")\\b\\s*\")\n",
    "        text = pattern.sub('', text)\n",
    "\n",
    "    # Spacing and filters\n",
    "    text = re.sub(\n",
    "        r\"([!\\\"'#$%&()*\\+,-./:;<=>?@\\\\\\[\\]^_`{|}~])\", r\" \\1 \", text\n",
    "    )  # add spacing between objects to be filtered\n",
    "    text = re.sub(\"[^A-Za-z0-9]+\", \" \", text)  # remove non alphanumeric chars\n",
    "    text = re.sub(\" +\", \" \", text)  # remove multiple spaces\n",
    "    text = text.strip()  # strip white space at the ends\n",
    "\n",
    "    # Remove links\n",
    "    text = re.sub(r\"http\\S+\", \"\", text)\n",
    "\n",
    "    # Stemming\n",
    "    if stem:\n",
    "        text = \" \".join([stemmer.stem(word, to_lowercase=lower) for word in text.split(\" \")])\n",
    "\n",
    "    return text"
   ]
  },
  {
   "cell_type": "code",
   "execution_count": 19,
   "metadata": {
    "colab": {
     "base_uri": "https://localhost:8080/",
     "height": 98,
     "referenced_widgets": [
      "2e9bf8da357f4023aa689b9cfe1cb538",
      "e5bc205f164041e185f8def451004f19",
      "1ca102010e264c1d897dddb45badee37",
      "ca68a2fd78d549628d7e7fad588e3b8c",
      "0ad6157dc31841cb801e6b2ddb7ce22f",
      "474fc0e7e3544c5585800f9ae955045e",
      "21679cda152446509ccb35476eed9470",
      "82fe0d77514a4befb291b9158a955c44",
      "5524e89a63404335b45b19b7eaa0fe4e",
      "6efbf894bdce4c2bb074e9040978d18a"
     ]
    },
    "id": "L6aKH-g0LlQt",
    "outputId": "1c0abc79-de0f-462b-b3ff-7104f0f36ce4"
   },
   "outputs": [
    {
     "data": {
      "application/vnd.jupyter.widget-view+json": {
       "model_id": "2653c4e234134dd6863433eb2ff4d3b9",
       "version_major": 2,
       "version_minor": 0
      },
      "text/plain": [
       "interactive(children=(Checkbox(value=True, description='lower'), Checkbox(value=False, description='stem'), Ou…"
      ]
     },
     "metadata": {},
     "output_type": "display_data"
    }
   ],
   "source": [
    "# Toggle preprocessing parameters\n",
    "@widgets.interact(lower=True, stem=False)\n",
    "def display_cleaned_text(lower, stem):\n",
    "    text = \"Conditional image generation using Variational Autoencoders and GANs.\"\n",
    "    cleaned_text = clean_text(text=text, lower=lower, stem=stem)\n",
    "    print (cleaned_text)    "
   ]
  },
  {
   "cell_type": "code",
   "execution_count": 20,
   "metadata": {
    "colab": {
     "base_uri": "https://localhost:8080/"
    },
    "id": "3LRaq0_5LpE4",
    "outputId": "3389569e-5e05-4902-d4cb-8e64321dfa91"
   },
   "outputs": [
    {
     "name": "stdout",
     "output_type": "stream",
     "text": [
      "Comparison between YOLO and RCNN on real world videos Bringing theory to experiment is cool. We can easily train models in colab and find the results in minutes.\n",
      "comparison yolo rcnn real world videos bringing theory experiment cool easily train models colab find results minutes\n"
     ]
    }
   ],
   "source": [
    "# Apply to dataframe\n",
    "original_df = df.copy()\n",
    "df.text = df.text.apply(clean_text, lower=True, stem=False)\n",
    "print (f\"{original_df.text.values[0]}\\n{df.text.values[0]}\")"
   ]
  },
  {
   "cell_type": "markdown",
   "metadata": {
    "id": "Ngvk81rcho7-"
   },
   "source": [
    "### Replace labels"
   ]
  },
  {
   "cell_type": "markdown",
   "metadata": {
    "id": "AsgzBNR3pQca"
   },
   "source": [
    "Based on our findinds from EDA, we're going to clean up our label space:\n",
    "- if a data point has a tag that we currently don't support, we'll replace it with `other`\n",
    "- if a certain tag doesn't have *enough* samples, we'll replace it with `other`"
   ]
  },
  {
   "cell_type": "code",
   "execution_count": 21,
   "metadata": {
    "id": "YonnzR5fJoHc"
   },
   "outputs": [],
   "source": [
    "# Accepted tags (external constraint)\n",
    "ACCEPTED_TAGS = [\"natural-language-processing\", \"computer-vision\", \"mlops\", \"graph-learning\"]"
   ]
  },
  {
   "cell_type": "code",
   "execution_count": 22,
   "metadata": {
    "colab": {
     "base_uri": "https://localhost:8080/"
    },
    "id": "RNbE5Q1BRYxG",
    "outputId": "0f05328a-a59c-4aad-9110-10b30afc8722"
   },
   "outputs": [
    {
     "data": {
      "text/plain": [
       "['reinforcement-learning', 'time-series']"
      ]
     },
     "execution_count": 22,
     "metadata": {},
     "output_type": "execute_result"
    }
   ],
   "source": [
    "# Out of scope (OOS) tags\n",
    "oos_tags = [item for item in df.tag.unique() if item not in ACCEPTED_TAGS]\n",
    "oos_tags"
   ]
  },
  {
   "cell_type": "code",
   "execution_count": 23,
   "metadata": {
    "colab": {
     "base_uri": "https://localhost:8080/",
     "height": 337
    },
    "id": "9tG94vykXcLX",
    "outputId": "4c791b04-c10d-4b50-debe-8cacbdfe486b"
   },
   "outputs": [
    {
     "data": {
      "text/html": [
       "<div>\n",
       "<style scoped>\n",
       "    .dataframe tbody tr th:only-of-type {\n",
       "        vertical-align: middle;\n",
       "    }\n",
       "\n",
       "    .dataframe tbody tr th {\n",
       "        vertical-align: top;\n",
       "    }\n",
       "\n",
       "    .dataframe thead th {\n",
       "        text-align: right;\n",
       "    }\n",
       "</style>\n",
       "<table border=\"1\" class=\"dataframe\">\n",
       "  <thead>\n",
       "    <tr style=\"text-align: right;\">\n",
       "      <th></th>\n",
       "      <th>id</th>\n",
       "      <th>created_on</th>\n",
       "      <th>title</th>\n",
       "      <th>description</th>\n",
       "      <th>tag</th>\n",
       "      <th>text</th>\n",
       "    </tr>\n",
       "  </thead>\n",
       "  <tbody>\n",
       "    <tr>\n",
       "      <th>3</th>\n",
       "      <td>15</td>\n",
       "      <td>2020-02-28 23:55:26</td>\n",
       "      <td>Awesome Monte Carlo Tree Search</td>\n",
       "      <td>A curated list of Monte Carlo tree search pape...</td>\n",
       "      <td>reinforcement-learning</td>\n",
       "      <td>awesome monte carlo tree search curated list m...</td>\n",
       "    </tr>\n",
       "    <tr>\n",
       "      <th>37</th>\n",
       "      <td>121</td>\n",
       "      <td>2020-03-24 04:56:38</td>\n",
       "      <td>Deep Reinforcement Learning in TensorFlow2</td>\n",
       "      <td>deep-rl-tf2 is a repository that implements a ...</td>\n",
       "      <td>reinforcement-learning</td>\n",
       "      <td>deep reinforcement learning tensorflow2 deep r...</td>\n",
       "    </tr>\n",
       "    <tr>\n",
       "      <th>67</th>\n",
       "      <td>218</td>\n",
       "      <td>2020-04-06 11:29:57</td>\n",
       "      <td>Distributional RL using TensorFlow2</td>\n",
       "      <td>🐳 Implementation of various Distributional Rei...</td>\n",
       "      <td>reinforcement-learning</td>\n",
       "      <td>distributional rl using tensorflow2 implementa...</td>\n",
       "    </tr>\n",
       "    <tr>\n",
       "      <th>74</th>\n",
       "      <td>239</td>\n",
       "      <td>2020-04-06 18:39:48</td>\n",
       "      <td>Prophet: Forecasting At Scale</td>\n",
       "      <td>Tool for producing high quality forecasts for ...</td>\n",
       "      <td>time-series</td>\n",
       "      <td>prophet forecasting scale tool producing high ...</td>\n",
       "    </tr>\n",
       "    <tr>\n",
       "      <th>95</th>\n",
       "      <td>277</td>\n",
       "      <td>2020-04-07 00:30:33</td>\n",
       "      <td>Curriculum for Reinforcement Learning</td>\n",
       "      <td>Curriculum learning applied to reinforcement l...</td>\n",
       "      <td>reinforcement-learning</td>\n",
       "      <td>curriculum reinforcement learning curriculum l...</td>\n",
       "    </tr>\n",
       "  </tbody>\n",
       "</table>\n",
       "</div>"
      ],
      "text/plain": [
       "     id           created_on                                       title  \\\n",
       "3    15  2020-02-28 23:55:26             Awesome Monte Carlo Tree Search   \n",
       "37  121  2020-03-24 04:56:38  Deep Reinforcement Learning in TensorFlow2   \n",
       "67  218  2020-04-06 11:29:57         Distributional RL using TensorFlow2   \n",
       "74  239  2020-04-06 18:39:48               Prophet: Forecasting At Scale   \n",
       "95  277  2020-04-07 00:30:33       Curriculum for Reinforcement Learning   \n",
       "\n",
       "                                          description                     tag  \\\n",
       "3   A curated list of Monte Carlo tree search pape...  reinforcement-learning   \n",
       "37  deep-rl-tf2 is a repository that implements a ...  reinforcement-learning   \n",
       "67  🐳 Implementation of various Distributional Rei...  reinforcement-learning   \n",
       "74  Tool for producing high quality forecasts for ...             time-series   \n",
       "95  Curriculum learning applied to reinforcement l...  reinforcement-learning   \n",
       "\n",
       "                                                 text  \n",
       "3   awesome monte carlo tree search curated list m...  \n",
       "37  deep reinforcement learning tensorflow2 deep r...  \n",
       "67  distributional rl using tensorflow2 implementa...  \n",
       "74  prophet forecasting scale tool producing high ...  \n",
       "95  curriculum reinforcement learning curriculum l...  "
      ]
     },
     "execution_count": 23,
     "metadata": {},
     "output_type": "execute_result"
    }
   ],
   "source": [
    "# Samples with OOS tags\n",
    "oos_indices = df[df.tag.isin(oos_tags)].index\n",
    "df[df.tag.isin(oos_tags)].head()"
   ]
  },
  {
   "cell_type": "code",
   "execution_count": 24,
   "metadata": {
    "colab": {
     "base_uri": "https://localhost:8080/",
     "height": 337
    },
    "id": "4CjtPSblYYQr",
    "outputId": "2f63a971-58e1-43cc-fb53-fca07dd436e2"
   },
   "outputs": [
    {
     "data": {
      "text/html": [
       "<div>\n",
       "<style scoped>\n",
       "    .dataframe tbody tr th:only-of-type {\n",
       "        vertical-align: middle;\n",
       "    }\n",
       "\n",
       "    .dataframe tbody tr th {\n",
       "        vertical-align: top;\n",
       "    }\n",
       "\n",
       "    .dataframe thead th {\n",
       "        text-align: right;\n",
       "    }\n",
       "</style>\n",
       "<table border=\"1\" class=\"dataframe\">\n",
       "  <thead>\n",
       "    <tr style=\"text-align: right;\">\n",
       "      <th></th>\n",
       "      <th>id</th>\n",
       "      <th>created_on</th>\n",
       "      <th>title</th>\n",
       "      <th>description</th>\n",
       "      <th>tag</th>\n",
       "      <th>text</th>\n",
       "    </tr>\n",
       "  </thead>\n",
       "  <tbody>\n",
       "    <tr>\n",
       "      <th>3</th>\n",
       "      <td>15</td>\n",
       "      <td>2020-02-28 23:55:26</td>\n",
       "      <td>Awesome Monte Carlo Tree Search</td>\n",
       "      <td>A curated list of Monte Carlo tree search pape...</td>\n",
       "      <td>other</td>\n",
       "      <td>awesome monte carlo tree search curated list m...</td>\n",
       "    </tr>\n",
       "    <tr>\n",
       "      <th>37</th>\n",
       "      <td>121</td>\n",
       "      <td>2020-03-24 04:56:38</td>\n",
       "      <td>Deep Reinforcement Learning in TensorFlow2</td>\n",
       "      <td>deep-rl-tf2 is a repository that implements a ...</td>\n",
       "      <td>other</td>\n",
       "      <td>deep reinforcement learning tensorflow2 deep r...</td>\n",
       "    </tr>\n",
       "    <tr>\n",
       "      <th>67</th>\n",
       "      <td>218</td>\n",
       "      <td>2020-04-06 11:29:57</td>\n",
       "      <td>Distributional RL using TensorFlow2</td>\n",
       "      <td>🐳 Implementation of various Distributional Rei...</td>\n",
       "      <td>other</td>\n",
       "      <td>distributional rl using tensorflow2 implementa...</td>\n",
       "    </tr>\n",
       "    <tr>\n",
       "      <th>74</th>\n",
       "      <td>239</td>\n",
       "      <td>2020-04-06 18:39:48</td>\n",
       "      <td>Prophet: Forecasting At Scale</td>\n",
       "      <td>Tool for producing high quality forecasts for ...</td>\n",
       "      <td>other</td>\n",
       "      <td>prophet forecasting scale tool producing high ...</td>\n",
       "    </tr>\n",
       "    <tr>\n",
       "      <th>95</th>\n",
       "      <td>277</td>\n",
       "      <td>2020-04-07 00:30:33</td>\n",
       "      <td>Curriculum for Reinforcement Learning</td>\n",
       "      <td>Curriculum learning applied to reinforcement l...</td>\n",
       "      <td>other</td>\n",
       "      <td>curriculum reinforcement learning curriculum l...</td>\n",
       "    </tr>\n",
       "  </tbody>\n",
       "</table>\n",
       "</div>"
      ],
      "text/plain": [
       "     id           created_on                                       title  \\\n",
       "3    15  2020-02-28 23:55:26             Awesome Monte Carlo Tree Search   \n",
       "37  121  2020-03-24 04:56:38  Deep Reinforcement Learning in TensorFlow2   \n",
       "67  218  2020-04-06 11:29:57         Distributional RL using TensorFlow2   \n",
       "74  239  2020-04-06 18:39:48               Prophet: Forecasting At Scale   \n",
       "95  277  2020-04-07 00:30:33       Curriculum for Reinforcement Learning   \n",
       "\n",
       "                                          description    tag  \\\n",
       "3   A curated list of Monte Carlo tree search pape...  other   \n",
       "37  deep-rl-tf2 is a repository that implements a ...  other   \n",
       "67  🐳 Implementation of various Distributional Rei...  other   \n",
       "74  Tool for producing high quality forecasts for ...  other   \n",
       "95  Curriculum learning applied to reinforcement l...  other   \n",
       "\n",
       "                                                 text  \n",
       "3   awesome monte carlo tree search curated list m...  \n",
       "37  deep reinforcement learning tensorflow2 deep r...  \n",
       "67  distributional rl using tensorflow2 implementa...  \n",
       "74  prophet forecasting scale tool producing high ...  \n",
       "95  curriculum reinforcement learning curriculum l...  "
      ]
     },
     "execution_count": 24,
     "metadata": {},
     "output_type": "execute_result"
    }
   ],
   "source": [
    "# Replace this tag with `other`\n",
    "df.tag = df.tag.apply(lambda x: \"other\" if x in oos_tags else x)\n",
    "df.iloc[oos_indices].head()"
   ]
  },
  {
   "cell_type": "markdown",
   "metadata": {
    "id": "NYOdYGBbO8YZ"
   },
   "source": [
    "We're also going to restrict the mapping to only tags that are above a certain frequency threshold. The tags that don't have enough projects will not have enough samples to model their relationships."
   ]
  },
  {
   "cell_type": "code",
   "execution_count": 25,
   "metadata": {
    "id": "Uea8NC_hqELA"
   },
   "outputs": [],
   "source": [
    "# Minimum frequency required for a tag\n",
    "min_freq = 75\n",
    "tags = Counter(df.tag.values)"
   ]
  },
  {
   "cell_type": "code",
   "execution_count": 26,
   "metadata": {
    "colab": {
     "base_uri": "https://localhost:8080/",
     "height": 188,
     "referenced_widgets": [
      "f227c8a76e0b4cf8af46e173aef19194",
      "359b62dd2cbc46a88942dc4827327c3f",
      "80056f72e00b4e11b56fd750d7e8a99d",
      "87a32d5069024b80a40e4ab03d377c8a",
      "971a40572012499daa255fad98a85adf",
      "1f675b6921ca47f5a1a0b2bd0b567cf4",
      "7986691c01c24a009482404b72a75b90"
     ]
    },
    "id": "g4RRswj4Ykty",
    "outputId": "4bf394c4-d49c-438a-8139-2a59e9591844"
   },
   "outputs": [
    {
     "data": {
      "application/vnd.jupyter.widget-view+json": {
       "model_id": "dd6923bc314a47d08a68f399edcdf07d",
       "version_major": 2,
       "version_minor": 0
      },
      "text/plain": [
       "interactive(children=(IntSlider(value=75, description='min_freq', max=388), Output()), _dom_classes=('widget-i…"
      ]
     },
     "metadata": {},
     "output_type": "display_data"
    }
   ],
   "source": [
    "# Tags that just made / missed the cut\n",
    "@widgets.interact(min_freq=(0, tags.most_common()[0][1]))\n",
    "def separate_tags_by_freq(min_freq=min_freq):\n",
    "    tags_above_freq = Counter(tag for tag in tags.elements()\n",
    "                                    if tags[tag] >= min_freq)\n",
    "    tags_below_freq = Counter(tag for tag in tags.elements()\n",
    "                                    if tags[tag] < min_freq)\n",
    "    print (\"Most popular tags:\\n\", tags_above_freq.most_common(3))\n",
    "    print (\"\\nTags that just made the cut:\\n\", tags_above_freq.most_common()[-3:])\n",
    "    print (\"\\nTags that just missed the cut:\\n\", tags_below_freq.most_common(3))"
   ]
  },
  {
   "cell_type": "code",
   "execution_count": 27,
   "metadata": {
    "id": "RGj6bYasqHiz"
   },
   "outputs": [],
   "source": [
    "# Filter tags that have fewer than <min_freq> occurrences\n",
    "tags_above_freq = Counter(tag for tag in tags.elements() \n",
    "                          if (tags[tag] >= min_freq))\n",
    "df.tag = df.tag.apply(lambda tag: tag if tag in tags_above_freq else None)"
   ]
  },
  {
   "cell_type": "code",
   "execution_count": 28,
   "metadata": {
    "id": "Scs0935sqHlZ"
   },
   "outputs": [],
   "source": [
    "# Fill None with `other`\n",
    "df.tag = df.tag.fillna(\"other\")"
   ]
  },
  {
   "cell_type": "markdown",
   "metadata": {
    "id": "ntdceUjmqHxZ"
   },
   "source": [
    "> Traditionally, we would be applying data quality tests on our data assets before and after labeling our data. But we'll cover these topics in our [testing lesson](testing.md)."
   ]
  },
  {
   "cell_type": "markdown",
   "metadata": {
    "id": "7sfzg9CMNkSV"
   },
   "source": [
    "### Encoding"
   ]
  },
  {
   "cell_type": "markdown",
   "metadata": {
    "id": "XF-uVXMUonb6"
   },
   "source": [
    "We'll start by encoding our labels into numerical values so our models can process them."
   ]
  },
  {
   "cell_type": "code",
   "execution_count": 29,
   "metadata": {
    "id": "DYKtkRjlNkSV"
   },
   "outputs": [],
   "source": [
    "import numpy as np\n",
    "import random"
   ]
  },
  {
   "cell_type": "code",
   "execution_count": 30,
   "metadata": {
    "id": "j4lC_E14NkSV"
   },
   "outputs": [],
   "source": [
    "# Get data\n",
    "X = df.text.to_numpy()\n",
    "y = df.tag"
   ]
  },
  {
   "cell_type": "markdown",
   "metadata": {
    "id": "zT6FHkqyNkSV"
   },
   "source": [
    "We'll be writing our own LabelEncoder which is based on scikit-learn's [implementation](https://scikit-learn.org/stable/modules/generated/sklearn.preprocessing.LabelEncoder.html). It's an extremely valuable skill to be able to write clean classes for objects we want to create."
   ]
  },
  {
   "cell_type": "code",
   "execution_count": 31,
   "metadata": {
    "id": "YHPmj1XANkSV"
   },
   "outputs": [],
   "source": [
    "class LabelEncoder(object):\n",
    "    \"\"\"Encode labels into unique indices.\"\"\"\n",
    "    def __init__(self, class_to_index={}):\n",
    "        self.class_to_index = class_to_index\n",
    "        self.index_to_class = {v: k for k, v in self.class_to_index.items()}\n",
    "        self.classes = list(self.class_to_index.keys())\n",
    "\n",
    "    def __len__(self):\n",
    "        return len(self.class_to_index)\n",
    "\n",
    "    def __str__(self):\n",
    "        return f\"<LabelEncoder(num_classes={len(self)})>\"\n",
    "\n",
    "    def fit(self, y):\n",
    "        classes = np.unique(y)\n",
    "        for i, class_ in enumerate(classes):\n",
    "            self.class_to_index[class_] = i\n",
    "        self.index_to_class = {v: k for k, v in self.class_to_index.items()}\n",
    "        self.classes = list(self.class_to_index.keys())\n",
    "        return self\n",
    "\n",
    "    def encode(self, y):\n",
    "        encoded = np.zeros((len(y)), dtype=int)\n",
    "        for i, item in enumerate(y):\n",
    "            encoded[i] = self.class_to_index[item]\n",
    "        return encoded\n",
    "\n",
    "    def decode(self, y):\n",
    "        classes = []\n",
    "        for i, item in enumerate(y):\n",
    "            classes.append(self.index_to_class[item])\n",
    "        return classes\n",
    "\n",
    "    def save(self, fp):\n",
    "        with open(fp, \"w\") as fp:\n",
    "            contents = {\"class_to_index\": self.class_to_index}\n",
    "            json.dump(contents, fp, indent=4, sort_keys=False)\n",
    "\n",
    "    @classmethod\n",
    "    def load(cls, fp):\n",
    "        with open(fp, \"r\") as fp:\n",
    "            kwargs = json.load(fp=fp)\n",
    "        return cls(**kwargs)"
   ]
  },
  {
   "cell_type": "code",
   "execution_count": 32,
   "metadata": {
    "id": "fIcGw6MNNkSV"
   },
   "outputs": [],
   "source": [
    "# Encode\n",
    "label_encoder = LabelEncoder()\n",
    "label_encoder.fit(y)\n",
    "num_classes = len(label_encoder)"
   ]
  },
  {
   "cell_type": "code",
   "execution_count": 33,
   "metadata": {
    "colab": {
     "base_uri": "https://localhost:8080/"
    },
    "id": "pLzecFwWNkSV",
    "outputId": "413a63ad-6eaa-47ab-d037-0e8f77f4d261"
   },
   "outputs": [
    {
     "data": {
      "text/plain": [
       "{'computer-vision': 0,\n",
       " 'mlops': 1,\n",
       " 'natural-language-processing': 2,\n",
       " 'other': 3}"
      ]
     },
     "execution_count": 33,
     "metadata": {},
     "output_type": "execute_result"
    }
   ],
   "source": [
    "label_encoder.class_to_index"
   ]
  },
  {
   "cell_type": "code",
   "execution_count": 34,
   "metadata": {
    "colab": {
     "base_uri": "https://localhost:8080/"
    },
    "id": "f5ALx5CCRMCF",
    "outputId": "deb03c81-41ba-4504-a1cc-c1d6b5cc1e8b"
   },
   "outputs": [
    {
     "data": {
      "text/plain": [
       "{0: 'computer-vision',\n",
       " 1: 'mlops',\n",
       " 2: 'natural-language-processing',\n",
       " 3: 'other'}"
      ]
     },
     "execution_count": 34,
     "metadata": {},
     "output_type": "execute_result"
    }
   ],
   "source": [
    "label_encoder.index_to_class"
   ]
  },
  {
   "cell_type": "code",
   "execution_count": 35,
   "metadata": {
    "colab": {
     "base_uri": "https://localhost:8080/"
    },
    "id": "l8na7YazNkSW",
    "outputId": "c5ae7f82-1536-4559-bfc7-e212cefe17b2"
   },
   "outputs": [
    {
     "data": {
      "text/plain": [
       "array([0, 1, 1])"
      ]
     },
     "execution_count": 35,
     "metadata": {},
     "output_type": "execute_result"
    }
   ],
   "source": [
    "# Encode\n",
    "label_encoder.encode([\"computer-vision\", \"mlops\", \"mlops\"])"
   ]
  },
  {
   "cell_type": "code",
   "execution_count": 36,
   "metadata": {
    "colab": {
     "base_uri": "https://localhost:8080/"
    },
    "id": "ks_pcJMOOfbT",
    "outputId": "2bb1c2c2-b9d4-4786-e9a7-ebfada05e38d"
   },
   "outputs": [
    {
     "data": {
      "text/plain": [
       "['computer-vision', 'mlops', 'mlops']"
      ]
     },
     "execution_count": 36,
     "metadata": {},
     "output_type": "execute_result"
    }
   ],
   "source": [
    "# Decode\n",
    "label_encoder.decode(np.array([0, 1, 1]))"
   ]
  },
  {
   "cell_type": "code",
   "execution_count": 37,
   "metadata": {
    "colab": {
     "base_uri": "https://localhost:8080/"
    },
    "id": "iMyIbacNNkSW",
    "outputId": "2f328999-5eb0-4998-c17d-d4940dc435a2"
   },
   "outputs": [
    {
     "name": "stdout",
     "output_type": "stream",
     "text": [
      "(955,)\n"
     ]
    }
   ],
   "source": [
    "# Encode all our labels\n",
    "y = label_encoder.encode(y)\n",
    "print (y.shape)"
   ]
  },
  {
   "cell_type": "markdown",
   "metadata": {
    "id": "w4RSLvShox6H"
   },
   "source": [
    "Many of the *transformations* we're going to do on our input text features are model specific. For example, for our simple baselines we may do `label encoding` → `tf-idf` while for the more involved architectures we may do `label encoding` → `one-hot encoding` → `embeddings`. So we'll cover these in the next suite of lessons as we implement our [baselines](https://madewithml.com/courses/mlops/baselines) lesson."
   ]
  },
  {
   "cell_type": "markdown",
   "metadata": {
    "id": "ufCNlDjQNkSW"
   },
   "source": [
    "## Splitting"
   ]
  },
  {
   "cell_type": "markdown",
   "metadata": {
    "id": "BBRwUKtfNkSW"
   },
   "source": [
    "It's time to split our dataset into three data splits for training, validation and testing."
   ]
  },
  {
   "cell_type": "code",
   "execution_count": 38,
   "metadata": {
    "id": "WEhp9SMFNkSW"
   },
   "outputs": [],
   "source": [
    "from sklearn.model_selection import train_test_split"
   ]
  },
  {
   "cell_type": "code",
   "execution_count": 39,
   "metadata": {
    "id": "TTUju11uNkSW"
   },
   "outputs": [],
   "source": [
    "# Split sizes\n",
    "train_size = 0.7\n",
    "val_size = 0.15\n",
    "test_size = 0.15"
   ]
  },
  {
   "cell_type": "markdown",
   "metadata": {
    "id": "DTRQWabKNkSW"
   },
   "source": [
    "For our multi-class task (each input has one label), we want to ensure that each data split has similar class distributions. We can achieve this by specifying how to stratify the split by adding the [`stratify`](https://scikit-learn.org/stable/modules/generated/sklearn.model_selection.train_test_split.html) keyword argument."
   ]
  },
  {
   "cell_type": "code",
   "execution_count": 40,
   "metadata": {
    "id": "fw83_zitNkSW"
   },
   "outputs": [],
   "source": [
    "# Split (train)\n",
    "X_train, X_, y_train, y_ = train_test_split(\n",
    "    X, y, train_size=train_size, stratify=y)"
   ]
  },
  {
   "cell_type": "code",
   "execution_count": 41,
   "metadata": {
    "colab": {
     "base_uri": "https://localhost:8080/"
    },
    "id": "WPVutu_dNkSW",
    "outputId": "4067e0e2-d01b-47b0-bf93-e76c0c7deff9"
   },
   "outputs": [
    {
     "name": "stdout",
     "output_type": "stream",
     "text": [
      "train: 668 (0.70)\n",
      "remaining: 287 (0.30)\n"
     ]
    }
   ],
   "source": [
    "print (f\"train: {len(X_train)} ({(len(X_train) / len(X)):.2f})\\n\"\n",
    "       f\"remaining: {len(X_)} ({(len(X_) / len(X)):.2f})\")"
   ]
  },
  {
   "cell_type": "code",
   "execution_count": 42,
   "metadata": {
    "id": "u-CFrR7pNkSW"
   },
   "outputs": [],
   "source": [
    "# Split (test)\n",
    "X_val, X_test, y_val, y_test = train_test_split(\n",
    "    X_, y_, train_size=0.5, stratify=y_)"
   ]
  },
  {
   "cell_type": "code",
   "execution_count": 43,
   "metadata": {
    "colab": {
     "base_uri": "https://localhost:8080/"
    },
    "id": "-evG0mc1NkSW",
    "outputId": "011702a5-c946-4a00-fd29-8e15b761060b"
   },
   "outputs": [
    {
     "name": "stdout",
     "output_type": "stream",
     "text": [
      "train: 668 (0.70)\n",
      "val: 143 (0.15)\n",
      "test: 144 (0.15)\n"
     ]
    }
   ],
   "source": [
    "print(f\"train: {len(X_train)} ({len(X_train)/len(X):.2f})\\n\"\n",
    "      f\"val: {len(X_val)} ({len(X_val)/len(X):.2f})\\n\"\n",
    "      f\"test: {len(X_test)} ({len(X_test)/len(X):.2f})\")"
   ]
  },
  {
   "cell_type": "code",
   "execution_count": 44,
   "metadata": {
    "id": "Jw7KBZxsNkSW"
   },
   "outputs": [],
   "source": [
    "# Get counts for each class\n",
    "counts = {}\n",
    "counts[\"train_counts\"] = {tag: label_encoder.decode(y_train).count(tag) for tag in label_encoder.classes}\n",
    "counts[\"val_counts\"] = {tag: label_encoder.decode(y_val).count(tag) for tag in label_encoder.classes}\n",
    "counts[\"test_counts\"] = {tag: label_encoder.decode(y_test).count(tag) for tag in label_encoder.classes}"
   ]
  },
  {
   "cell_type": "code",
   "execution_count": 45,
   "metadata": {
    "colab": {
     "base_uri": "https://localhost:8080/",
     "height": 143
    },
    "id": "XsqdznxBNkSW",
    "outputId": "50b7a5c9-ba28-47b1-aa99-1c58522d63e9"
   },
   "outputs": [
    {
     "data": {
      "text/html": [
       "<div>\n",
       "<style scoped>\n",
       "    .dataframe tbody tr th:only-of-type {\n",
       "        vertical-align: middle;\n",
       "    }\n",
       "\n",
       "    .dataframe tbody tr th {\n",
       "        vertical-align: top;\n",
       "    }\n",
       "\n",
       "    .dataframe thead th {\n",
       "        text-align: right;\n",
       "    }\n",
       "</style>\n",
       "<table border=\"1\" class=\"dataframe\">\n",
       "  <thead>\n",
       "    <tr style=\"text-align: right;\">\n",
       "      <th></th>\n",
       "      <th>computer-vision</th>\n",
       "      <th>mlops</th>\n",
       "      <th>natural-language-processing</th>\n",
       "      <th>other</th>\n",
       "    </tr>\n",
       "  </thead>\n",
       "  <tbody>\n",
       "    <tr>\n",
       "      <th>train</th>\n",
       "      <td>249</td>\n",
       "      <td>55</td>\n",
       "      <td>272</td>\n",
       "      <td>92</td>\n",
       "    </tr>\n",
       "    <tr>\n",
       "      <th>val</th>\n",
       "      <td>53</td>\n",
       "      <td>12</td>\n",
       "      <td>58</td>\n",
       "      <td>20</td>\n",
       "    </tr>\n",
       "    <tr>\n",
       "      <th>test</th>\n",
       "      <td>54</td>\n",
       "      <td>12</td>\n",
       "      <td>58</td>\n",
       "      <td>20</td>\n",
       "    </tr>\n",
       "  </tbody>\n",
       "</table>\n",
       "</div>"
      ],
      "text/plain": [
       "       computer-vision  mlops  natural-language-processing  other\n",
       "train              249     55                          272     92\n",
       "val                 53     12                           58     20\n",
       "test                54     12                           58     20"
      ]
     },
     "execution_count": 45,
     "metadata": {},
     "output_type": "execute_result"
    }
   ],
   "source": [
    "# View distributions\n",
    "pd.DataFrame({\n",
    "    \"train\": counts[\"train_counts\"],\n",
    "    \"val\": counts[\"val_counts\"],\n",
    "    \"test\": counts[\"test_counts\"]\n",
    "}).T.fillna(0)"
   ]
  },
  {
   "cell_type": "markdown",
   "metadata": {
    "id": "_UIGPYZCNkSW"
   },
   "source": [
    "It's hard to compare these because our train and test proportions are different. Let's see what the distribution looks like once we balance it out. What do we need to multiply our test ratio by so that we have the same amount as our train ratio?\n",
    "\n",
    "$$ \\alpha * N_{test} = N_{train} $$\n",
    "\n",
    "$$ \\alpha = \\frac{N_{train}}{N_{test}} $$"
   ]
  },
  {
   "cell_type": "code",
   "execution_count": 46,
   "metadata": {
    "id": "Nu1CRlQRNkSW"
   },
   "outputs": [],
   "source": [
    "# Adjust counts across splits\n",
    "for k in counts[\"val_counts\"].keys():\n",
    "    counts[\"val_counts\"][k] = int(counts[\"val_counts\"][k] * \\\n",
    "        (train_size/val_size))\n",
    "for k in counts[\"test_counts\"].keys():\n",
    "    counts[\"test_counts\"][k] = int(counts[\"test_counts\"][k] * \\\n",
    "        (train_size/test_size))"
   ]
  },
  {
   "cell_type": "code",
   "execution_count": 47,
   "metadata": {
    "colab": {
     "base_uri": "https://localhost:8080/",
     "height": 143
    },
    "id": "TRZcPnAkNkSW",
    "outputId": "52c1b18b-fe0f-4f51-ec06-29b177b5d699"
   },
   "outputs": [
    {
     "data": {
      "text/html": [
       "<div>\n",
       "<style scoped>\n",
       "    .dataframe tbody tr th:only-of-type {\n",
       "        vertical-align: middle;\n",
       "    }\n",
       "\n",
       "    .dataframe tbody tr th {\n",
       "        vertical-align: top;\n",
       "    }\n",
       "\n",
       "    .dataframe thead th {\n",
       "        text-align: right;\n",
       "    }\n",
       "</style>\n",
       "<table border=\"1\" class=\"dataframe\">\n",
       "  <thead>\n",
       "    <tr style=\"text-align: right;\">\n",
       "      <th></th>\n",
       "      <th>computer-vision</th>\n",
       "      <th>mlops</th>\n",
       "      <th>natural-language-processing</th>\n",
       "      <th>other</th>\n",
       "    </tr>\n",
       "  </thead>\n",
       "  <tbody>\n",
       "    <tr>\n",
       "      <th>train</th>\n",
       "      <td>249</td>\n",
       "      <td>55</td>\n",
       "      <td>272</td>\n",
       "      <td>92</td>\n",
       "    </tr>\n",
       "    <tr>\n",
       "      <th>val</th>\n",
       "      <td>247</td>\n",
       "      <td>56</td>\n",
       "      <td>270</td>\n",
       "      <td>93</td>\n",
       "    </tr>\n",
       "    <tr>\n",
       "      <th>test</th>\n",
       "      <td>252</td>\n",
       "      <td>56</td>\n",
       "      <td>270</td>\n",
       "      <td>93</td>\n",
       "    </tr>\n",
       "  </tbody>\n",
       "</table>\n",
       "</div>"
      ],
      "text/plain": [
       "       computer-vision  mlops  natural-language-processing  other\n",
       "train              249     55                          272     92\n",
       "val                247     56                          270     93\n",
       "test               252     56                          270     93"
      ]
     },
     "execution_count": 47,
     "metadata": {},
     "output_type": "execute_result"
    }
   ],
   "source": [
    "dist_df = pd.DataFrame({\n",
    "    \"train\": counts[\"train_counts\"],\n",
    "    \"val\": counts[\"val_counts\"],\n",
    "    \"test\": counts[\"test_counts\"]\n",
    "}).T.fillna(0)\n",
    "dist_df"
   ]
  },
  {
   "cell_type": "markdown",
   "metadata": {
    "id": "o-XWskGRNkSW"
   },
   "source": [
    "We can see how much deviance there is in our naive data splits by computing the standard deviation of each split's class counts from the mean (ideal split).\n",
    "\n",
    "$ \\sigma = \\sqrt{\\frac{(x - \\bar{x})^2}{N}} $"
   ]
  },
  {
   "cell_type": "code",
   "execution_count": 48,
   "metadata": {
    "colab": {
     "base_uri": "https://localhost:8080/"
    },
    "id": "jYL9nvKvNkSW",
    "outputId": "1ba3f0a3-d802-4964-d607-32ed0b7a68e3"
   },
   "outputs": [
    {
     "data": {
      "text/plain": [
       "0.9851056877051131"
      ]
     },
     "execution_count": 48,
     "metadata": {},
     "output_type": "execute_result"
    }
   ],
   "source": [
    "# Standard deviation\n",
    "np.mean(np.std(dist_df.to_numpy(), axis=0))"
   ]
  },
  {
   "cell_type": "code",
   "execution_count": 49,
   "metadata": {
    "colab": {
     "base_uri": "https://localhost:8080/",
     "height": 206
    },
    "id": "2_hVotyuUdFP",
    "outputId": "d7b835c5-5991-4da2-b401-c1fd3a57b866"
   },
   "outputs": [
    {
     "data": {
      "text/html": [
       "<div>\n",
       "<style scoped>\n",
       "    .dataframe tbody tr th:only-of-type {\n",
       "        vertical-align: middle;\n",
       "    }\n",
       "\n",
       "    .dataframe tbody tr th {\n",
       "        vertical-align: top;\n",
       "    }\n",
       "\n",
       "    .dataframe thead th {\n",
       "        text-align: right;\n",
       "    }\n",
       "</style>\n",
       "<table border=\"1\" class=\"dataframe\">\n",
       "  <thead>\n",
       "    <tr style=\"text-align: right;\">\n",
       "      <th></th>\n",
       "      <th>text</th>\n",
       "      <th>tag</th>\n",
       "    </tr>\n",
       "  </thead>\n",
       "  <tbody>\n",
       "    <tr>\n",
       "      <th>0</th>\n",
       "      <td>gpt 3 language model technical overview techni...</td>\n",
       "      <td>natural-language-processing</td>\n",
       "    </tr>\n",
       "    <tr>\n",
       "      <th>1</th>\n",
       "      <td>training batch norm batch norm experiments ide...</td>\n",
       "      <td>computer-vision</td>\n",
       "    </tr>\n",
       "    <tr>\n",
       "      <th>2</th>\n",
       "      <td>state transfer learning nlp post expands naacl...</td>\n",
       "      <td>natural-language-processing</td>\n",
       "    </tr>\n",
       "    <tr>\n",
       "      <th>3</th>\n",
       "      <td>barebones image retrieval system project prese...</td>\n",
       "      <td>computer-vision</td>\n",
       "    </tr>\n",
       "    <tr>\n",
       "      <th>4</th>\n",
       "      <td>dakshina dataset collection text latin native ...</td>\n",
       "      <td>natural-language-processing</td>\n",
       "    </tr>\n",
       "  </tbody>\n",
       "</table>\n",
       "</div>"
      ],
      "text/plain": [
       "                                                text  \\\n",
       "0  gpt 3 language model technical overview techni...   \n",
       "1  training batch norm batch norm experiments ide...   \n",
       "2  state transfer learning nlp post expands naacl...   \n",
       "3  barebones image retrieval system project prese...   \n",
       "4  dakshina dataset collection text latin native ...   \n",
       "\n",
       "                           tag  \n",
       "0  natural-language-processing  \n",
       "1              computer-vision  \n",
       "2  natural-language-processing  \n",
       "3              computer-vision  \n",
       "4  natural-language-processing  "
      ]
     },
     "execution_count": 49,
     "metadata": {},
     "output_type": "execute_result"
    }
   ],
   "source": [
    "# Split DataFrames\n",
    "train_df = pd.DataFrame({\"text\": X_train, \"tag\": label_encoder.decode(y_train)})\n",
    "val_df = pd.DataFrame({\"text\": X_val, \"tag\": label_encoder.decode(y_val)})\n",
    "test_df = pd.DataFrame({\"text\": X_test, \"tag\": label_encoder.decode(y_test)})\n",
    "train_df.head()"
   ]
  },
  {
   "cell_type": "markdown",
   "metadata": {
    "id": "whQp6BPxvQaz"
   },
   "source": [
    "> If we had a multi-label classification task, then we would've applied [iterative stratification](http://lpis.csd.auth.gr/publications/sechidis-ecmlpkdd-2011.pdf) via the [skmultilearn](http://scikit.ml/index.html) library, which essentially splits each input into subsets (where each label is considered individually) and then it distributes the samples starting with fewest \"positive\" samples and working up to the inputs that have the most labels."
   ]
  },
  {
   "cell_type": "markdown",
   "metadata": {
    "id": "q5b-_Pg9UUVz"
   },
   "source": [
    "```python\n",
    "from skmultilearn.model_selection import IterativeStratification\n",
    "def iterative_train_test_split(X, y, train_size):\n",
    "    \"\"\"Custom iterative train test split which \n",
    "    'maintains balanced representation with respect \n",
    "    to order-th label combinations.'\n",
    "    \"\"\"\n",
    "    stratifier = IterativeStratification(\n",
    "        n_splits=2, order=1, sample_distribution_per_fold=[1.0-train_size, train_size, ])\n",
    "    train_indices, test_indices = next(stratifier.split(X, y))\n",
    "    X_train, y_train = X[train_indices], y[train_indices]\n",
    "    X_test, y_test = X[test_indices], y[test_indices]\n",
    "    return X_train, X_test, y_train, y_test\n",
    "```"
   ]
  },
  {
   "cell_type": "markdown",
   "metadata": {
    "id": "1GvMA5m0vWVr"
   },
   "source": [
    "> [Iterative stratification](http://scikit.ml/_modules/skmultilearn/model_selection/iterative_stratification.html#IterativeStratification) essentially creates splits while \"trying to maintain balanced representation with respect to order-th label combinations\". We used to an `order=1` for our iterative split which means we cared about providing representative distribution of each tag across the splits. But we can account for [higher-order](https://arxiv.org/abs/1704.08756) label relationships as well where we may care about the distribution of label combinations."
   ]
  },
  {
   "cell_type": "markdown",
   "metadata": {
    "id": "ZsR6To1zNkSX"
   },
   "source": [
    "## Augmentation"
   ]
  },
  {
   "cell_type": "markdown",
   "metadata": {
    "id": "BZQNks8TNkSX"
   },
   "source": [
    "We'll often want to increase the size and diversity of our training data split through data augmentation. It involves using the existing samples to generate synthetic, yet realistic, examples.\n",
    "\n",
    "> It's important that we implement augmentation and data imbalance techniques *after* splitting our dataset so that we aren't introducing data leaks."
   ]
  },
  {
   "cell_type": "markdown",
   "metadata": {
    "id": "Q2uvOqlzmuUA"
   },
   "source": [
    "We'll use the [nlpaug](https://github.com/makcedward/nlpaug) library to augment our dataset and assess the quality of the generated samples."
   ]
  },
  {
   "cell_type": "code",
   "execution_count": 55,
   "metadata": {
    "collapsed": true
   },
   "outputs": [
    {
     "name": "stdout",
     "output_type": "stream",
     "text": [
      "Requirement already satisfied: nlpaug==1.1.0 in c:\\users\\acer\\appdata\\local\\programs\\python\\python39\\lib\\site-packages (1.1.0)\n",
      "Requirement already satisfied: snorkel==0.9.8 in c:\\users\\acer\\appdata\\local\\programs\\python\\python39\\lib\\site-packages (0.9.8)\n",
      "Requirement already satisfied: tensorboard<2.7.0,>=2.0.0 in c:\\users\\acer\\appdata\\local\\programs\\python\\python39\\lib\\site-packages (from snorkel==0.9.8) (2.6.0)\n",
      "Requirement already satisfied: networkx<2.7,>=2.2 in c:\\users\\acer\\appdata\\local\\programs\\python\\python39\\lib\\site-packages (from snorkel==0.9.8) (2.6.3)\n",
      "Requirement already satisfied: torch<2.0.0,>=1.2.0 in c:\\users\\acer\\appdata\\local\\programs\\python\\python39\\lib\\site-packages (from snorkel==0.9.8) (1.13.1)\n",
      "Requirement already satisfied: scipy<2.0.0,>=1.2.0 in c:\\users\\acer\\appdata\\local\\programs\\python\\python39\\lib\\site-packages (from snorkel==0.9.8) (1.9.2)\n",
      "Requirement already satisfied: pandas<2.0.0,>=1.0.0 in c:\\users\\acer\\appdata\\local\\programs\\python\\python39\\lib\\site-packages (from snorkel==0.9.8) (1.3.5)\n",
      "Requirement already satisfied: tqdm<5.0.0,>=4.33.0 in c:\\users\\acer\\appdata\\local\\programs\\python\\python39\\lib\\site-packages (from snorkel==0.9.8) (4.65.0)\n",
      "Requirement already satisfied: munkres>=1.0.6 in c:\\users\\acer\\appdata\\local\\programs\\python\\python39\\lib\\site-packages (from snorkel==0.9.8) (1.1.4)\n",
      "Requirement already satisfied: scikit-learn<0.25.0,>=0.20.2 in c:\\users\\acer\\appdata\\local\\programs\\python\\python39\\lib\\site-packages (from snorkel==0.9.8) (0.24.2)\n",
      "Requirement already satisfied: numpy<1.20.0,>=1.16.5 in c:\\users\\acer\\appdata\\local\\programs\\python\\python39\\lib\\site-packages (from snorkel==0.9.8) (1.19.5)\n",
      "Requirement already satisfied: pytz>=2017.3 in c:\\users\\acer\\appdata\\local\\programs\\python\\python39\\lib\\site-packages (from pandas<2.0.0,>=1.0.0->snorkel==0.9.8) (2022.5)\n",
      "Requirement already satisfied: python-dateutil>=2.7.3 in c:\\users\\acer\\appdata\\local\\programs\\python\\python39\\lib\\site-packages (from pandas<2.0.0,>=1.0.0->snorkel==0.9.8) (2.8.2)\n",
      "Requirement already satisfied: threadpoolctl>=2.0.0 in c:\\users\\acer\\appdata\\local\\programs\\python\\python39\\lib\\site-packages (from scikit-learn<0.25.0,>=0.20.2->snorkel==0.9.8) (3.1.0)\n",
      "Requirement already satisfied: joblib>=0.11 in c:\\users\\acer\\appdata\\local\\programs\\python\\python39\\lib\\site-packages (from scikit-learn<0.25.0,>=0.20.2->snorkel==0.9.8) (1.2.0)\n",
      "Requirement already satisfied: tensorboard-plugin-wit>=1.6.0 in c:\\users\\acer\\appdata\\local\\programs\\python\\python39\\lib\\site-packages (from tensorboard<2.7.0,>=2.0.0->snorkel==0.9.8) (1.8.1)\n",
      "Requirement already satisfied: setuptools>=41.0.0 in c:\\users\\acer\\appdata\\local\\programs\\python\\python39\\lib\\site-packages (from tensorboard<2.7.0,>=2.0.0->snorkel==0.9.8) (58.1.0)\n",
      "Requirement already satisfied: requests<3,>=2.21.0 in c:\\users\\acer\\appdata\\local\\programs\\python\\python39\\lib\\site-packages (from tensorboard<2.7.0,>=2.0.0->snorkel==0.9.8) (2.28.2)\n",
      "Requirement already satisfied: markdown>=2.6.8 in c:\\users\\acer\\appdata\\local\\programs\\python\\python39\\lib\\site-packages (from tensorboard<2.7.0,>=2.0.0->snorkel==0.9.8) (3.4.3)\n",
      "Requirement already satisfied: grpcio>=1.24.3 in c:\\users\\acer\\appdata\\local\\programs\\python\\python39\\lib\\site-packages (from tensorboard<2.7.0,>=2.0.0->snorkel==0.9.8) (1.54.0)\n",
      "Requirement already satisfied: tensorboard-data-server<0.7.0,>=0.6.0 in c:\\users\\acer\\appdata\\local\\programs\\python\\python39\\lib\\site-packages (from tensorboard<2.7.0,>=2.0.0->snorkel==0.9.8) (0.6.1)\n",
      "Requirement already satisfied: protobuf>=3.6.0 in c:\\users\\acer\\appdata\\local\\programs\\python\\python39\\lib\\site-packages (from tensorboard<2.7.0,>=2.0.0->snorkel==0.9.8) (3.20.3)\n",
      "Requirement already satisfied: werkzeug>=0.11.15 in c:\\users\\acer\\appdata\\local\\programs\\python\\python39\\lib\\site-packages (from tensorboard<2.7.0,>=2.0.0->snorkel==0.9.8) (2.2.3)\n",
      "Requirement already satisfied: wheel>=0.26 in c:\\users\\acer\\appdata\\local\\programs\\python\\python39\\lib\\site-packages (from tensorboard<2.7.0,>=2.0.0->snorkel==0.9.8) (0.40.0)\n",
      "Requirement already satisfied: absl-py>=0.4 in c:\\users\\acer\\appdata\\local\\programs\\python\\python39\\lib\\site-packages (from tensorboard<2.7.0,>=2.0.0->snorkel==0.9.8) (1.4.0)\n",
      "Requirement already satisfied: google-auth<2,>=1.6.3 in c:\\users\\acer\\appdata\\local\\programs\\python\\python39\\lib\\site-packages (from tensorboard<2.7.0,>=2.0.0->snorkel==0.9.8) (1.35.0)\n",
      "Requirement already satisfied: google-auth-oauthlib<0.5,>=0.4.1 in c:\\users\\acer\\appdata\\local\\programs\\python\\python39\\lib\\site-packages (from tensorboard<2.7.0,>=2.0.0->snorkel==0.9.8) (0.4.6)\n",
      "Requirement already satisfied: typing-extensions in c:\\users\\acer\\appdata\\local\\programs\\python\\python39\\lib\\site-packages (from torch<2.0.0,>=1.2.0->snorkel==0.9.8) (4.5.0)\n",
      "Requirement already satisfied: colorama in c:\\users\\acer\\appdata\\local\\programs\\python\\python39\\lib\\site-packages (from tqdm<5.0.0,>=4.33.0->snorkel==0.9.8) (0.4.5)\n",
      "Requirement already satisfied: rsa<5,>=3.1.4 in c:\\users\\acer\\appdata\\local\\programs\\python\\python39\\lib\\site-packages (from google-auth<2,>=1.6.3->tensorboard<2.7.0,>=2.0.0->snorkel==0.9.8) (4.9)\n",
      "Requirement already satisfied: six>=1.9.0 in c:\\users\\acer\\appdata\\local\\programs\\python\\python39\\lib\\site-packages (from google-auth<2,>=1.6.3->tensorboard<2.7.0,>=2.0.0->snorkel==0.9.8) (1.16.0)\n",
      "Requirement already satisfied: pyasn1-modules>=0.2.1 in c:\\users\\acer\\appdata\\local\\programs\\python\\python39\\lib\\site-packages (from google-auth<2,>=1.6.3->tensorboard<2.7.0,>=2.0.0->snorkel==0.9.8) (0.3.0)\n",
      "Requirement already satisfied: cachetools<5.0,>=2.0.0 in c:\\users\\acer\\appdata\\local\\programs\\python\\python39\\lib\\site-packages (from google-auth<2,>=1.6.3->tensorboard<2.7.0,>=2.0.0->snorkel==0.9.8) (4.2.4)\n",
      "Requirement already satisfied: requests-oauthlib>=0.7.0 in c:\\users\\acer\\appdata\\local\\programs\\python\\python39\\lib\\site-packages (from google-auth-oauthlib<0.5,>=0.4.1->tensorboard<2.7.0,>=2.0.0->snorkel==0.9.8) (1.3.1)\n",
      "Requirement already satisfied: importlib-metadata>=4.4 in c:\\users\\acer\\appdata\\local\\programs\\python\\python39\\lib\\site-packages (from markdown>=2.6.8->tensorboard<2.7.0,>=2.0.0->snorkel==0.9.8) (5.0.0)\n",
      "Requirement already satisfied: certifi>=2017.4.17 in c:\\users\\acer\\appdata\\local\\programs\\python\\python39\\lib\\site-packages (from requests<3,>=2.21.0->tensorboard<2.7.0,>=2.0.0->snorkel==0.9.8) (2022.12.7)\n",
      "Requirement already satisfied: charset-normalizer<4,>=2 in c:\\users\\acer\\appdata\\local\\programs\\python\\python39\\lib\\site-packages (from requests<3,>=2.21.0->tensorboard<2.7.0,>=2.0.0->snorkel==0.9.8) (3.1.0)\n",
      "Requirement already satisfied: idna<4,>=2.5 in c:\\users\\acer\\appdata\\local\\programs\\python\\python39\\lib\\site-packages (from requests<3,>=2.21.0->tensorboard<2.7.0,>=2.0.0->snorkel==0.9.8) (3.4)\n",
      "Requirement already satisfied: urllib3<1.27,>=1.21.1 in c:\\users\\acer\\appdata\\local\\programs\\python\\python39\\lib\\site-packages (from requests<3,>=2.21.0->tensorboard<2.7.0,>=2.0.0->snorkel==0.9.8) (1.26.15)\n",
      "Requirement already satisfied: MarkupSafe>=2.1.1 in c:\\users\\acer\\appdata\\local\\programs\\python\\python39\\lib\\site-packages (from werkzeug>=0.11.15->tensorboard<2.7.0,>=2.0.0->snorkel==0.9.8) (2.1.1)\n",
      "Requirement already satisfied: zipp>=0.5 in c:\\users\\acer\\appdata\\local\\programs\\python\\python39\\lib\\site-packages (from importlib-metadata>=4.4->markdown>=2.6.8->tensorboard<2.7.0,>=2.0.0->snorkel==0.9.8) (3.9.0)\n",
      "Requirement already satisfied: pyasn1<0.6.0,>=0.4.6 in c:\\users\\acer\\appdata\\local\\programs\\python\\python39\\lib\\site-packages (from pyasn1-modules>=0.2.1->google-auth<2,>=1.6.3->tensorboard<2.7.0,>=2.0.0->snorkel==0.9.8) (0.5.0)\n",
      "Requirement already satisfied: oauthlib>=3.0.0 in c:\\users\\acer\\appdata\\local\\programs\\python\\python39\\lib\\site-packages (from requests-oauthlib>=0.7.0->google-auth-oauthlib<0.5,>=0.4.1->tensorboard<2.7.0,>=2.0.0->snorkel==0.9.8) (3.2.2)\n"
     ]
    },
    {
     "name": "stderr",
     "output_type": "stream",
     "text": [
      "WARNING: Ignoring invalid distribution -matplotlib (c:\\users\\acer\\appdata\\local\\programs\\python\\python39\\lib\\site-packages)\n",
      "WARNING: Ignoring invalid distribution -atplotlib (c:\\users\\acer\\appdata\\local\\programs\\python\\python39\\lib\\site-packages)\n",
      "WARNING: Ignoring invalid distribution -matplotlib (c:\\users\\acer\\appdata\\local\\programs\\python\\python39\\lib\\site-packages)\n",
      "WARNING: Ignoring invalid distribution -atplotlib (c:\\users\\acer\\appdata\\local\\programs\\python\\python39\\lib\\site-packages)\n",
      "WARNING: Ignoring invalid distribution -matplotlib (c:\\users\\acer\\appdata\\local\\programs\\python\\python39\\lib\\site-packages)\n",
      "WARNING: Ignoring invalid distribution -atplotlib (c:\\users\\acer\\appdata\\local\\programs\\python\\python39\\lib\\site-packages)\n",
      "WARNING: Ignoring invalid distribution -matplotlib (c:\\users\\acer\\appdata\\local\\programs\\python\\python39\\lib\\site-packages)\n",
      "WARNING: Ignoring invalid distribution -atplotlib (c:\\users\\acer\\appdata\\local\\programs\\python\\python39\\lib\\site-packages)\n",
      "WARNING: Ignoring invalid distribution -matplotlib (c:\\users\\acer\\appdata\\local\\programs\\python\\python39\\lib\\site-packages)\n",
      "WARNING: Ignoring invalid distribution -atplotlib (c:\\users\\acer\\appdata\\local\\programs\\python\\python39\\lib\\site-packages)\n",
      "WARNING: Ignoring invalid distribution -matplotlib (c:\\users\\acer\\appdata\\local\\programs\\python\\python39\\lib\\site-packages)\n",
      "WARNING: Ignoring invalid distribution -atplotlib (c:\\users\\acer\\appdata\\local\\programs\\python\\python39\\lib\\site-packages)\n",
      "\n",
      "[notice] A new release of pip is available: 23.0.1 -> 23.1.2\n",
      "[notice] To update, run: python.exe -m pip install --upgrade pip\n"
     ]
    }
   ],
   "source": [
    "!pip install nlpaug==1.1.0 snorkel==0.9.8"
   ]
  },
  {
   "cell_type": "code",
   "execution_count": 61,
   "metadata": {},
   "outputs": [],
   "source": [
    "# !pip install transformers"
   ]
  },
  {
   "cell_type": "code",
   "execution_count": 58,
   "metadata": {
    "id": "C6MX5Gm8NkSX"
   },
   "outputs": [],
   "source": [
    "# import nlpaug.augmenter.word as naw"
   ]
  },
  {
   "cell_type": "code",
   "execution_count": 63,
   "metadata": {
    "colab": {
     "base_uri": "https://localhost:8080/",
     "height": 113,
     "referenced_widgets": [
      "a8589207309c4b12a1ef9a4021318f2e",
      "62564f4dbbf64a6994240cadb933bf7d",
      "071759e2244d4f72bd615e63d86626fd",
      "163a1a07e6c74e8e94cb5eebb06547d6",
      "4511195968344252b4f52c1eaf3f9c5c",
      "44f3dfe2e62f4502ba3805922b45d4a5",
      "2bb808e56f884fb7aa98f26f30b5b656",
      "57eb6d05395344a0aebc6274e6d09af5",
      "44f92639795f4c87827e47ce857d26e4",
      "704ae0162c4348099d89f7b6a3fd193f",
      "e0a28ea4b0124251a202b96941cba3e1",
      "86077943953e43b18524514f14724dcb",
      "eca32c4e1c4742d7be7b057cf236ebc7",
      "d6264af9cee74347b65b373a22ed95a5",
      "42b1b15d021d4f3194059cd29fc4f3c9",
      "a5c344cea8ae409889599e15d3417b0a",
      "5e95f24325b94286be5dcad5e802e225",
      "49785b71cc2441b9b08a407d578bfb45",
      "0b527166ad494985a5c8725e06231622",
      "6233bf11040c40179dc60ac2ab1b55c5",
      "79215c90aa5347d78a05c004a5937f78",
      "51d3a79ad14043639693f605d8796e2d",
      "a690d3c5a6bc4291877c410a828b0a95",
      "eb887f9e6c56430bb39a6629e8dce1a3",
      "fa7497dc3f3a4e868ae62b00d2e88cc7",
      "7c6772b155994b50a3fd6737a2557f90",
      "ad99bcdf6bbc48e48c7a6b7ba74cb584",
      "a934051f60f44ee180dfb1820b6acdcd",
      "6633b170751c483581dade33c64692ce",
      "1a3375fbfb814950865d819d48971d65",
      "802524a176f645ce8ad7efe1e0493d07",
      "5894cfcc1a834f85844d2750e65de897",
      "1db3d2c854134bcaac2e264805ee3146"
     ]
    },
    "id": "A9kUIKpsNkSX",
    "outputId": "0ac7d592-e89d-4c48-bd9b-5825262eefe9"
   },
   "outputs": [],
   "source": [
    "# # Load tokenizers and transformers\n",
    "# substitution = naw.ContextualWordEmbsAug(model_path=\"distilbert-base-uncased\", action=\"substitute\")\n",
    "# insertion = naw.ContextualWordEmbsAug(model_path=\"distilbert-base-uncased\", action=\"insert\")"
   ]
  },
  {
   "cell_type": "code",
   "execution_count": null,
   "metadata": {
    "id": "3YWn96hxNkSX"
   },
   "outputs": [],
   "source": [
    "# text = \"Conditional image generation using Variational Autoencoders and GANs.\""
   ]
  },
  {
   "cell_type": "code",
   "execution_count": 64,
   "metadata": {
    "colab": {
     "base_uri": "https://localhost:8080/",
     "height": 35
    },
    "id": "NLt1kYXkg3L8",
    "outputId": "cab4d55d-10c4-4a61-fb9a-3f524dab5735"
   },
   "outputs": [],
   "source": [
    "# # Substitutions\n",
    "# substitution.augment(text)"
   ]
  },
  {
   "cell_type": "markdown",
   "metadata": {
    "id": "36DzpSqbNkSX"
   },
   "source": [
    "Substitution doesn't seem like a great idea for us because there are certain keywords that provide strong signal for our tags so we don't want to alter those. Also, note that these augmentations are NOT deterministic and will vary every time we run them. Let's try insertion..."
   ]
  },
  {
   "cell_type": "code",
   "execution_count": null,
   "metadata": {
    "colab": {
     "base_uri": "https://localhost:8080/",
     "height": 35
    },
    "id": "bK8PV0FWb7pE",
    "outputId": "3b85208e-bca7-40dc-9a49-29cd59248853"
   },
   "outputs": [],
   "source": [
    "# # Insertions\n",
    "# insertion.augment(text)"
   ]
  },
  {
   "cell_type": "markdown",
   "metadata": {
    "id": "x5K29gM5NkSX"
   },
   "source": [
    "A little better but still quite fragile and now it can potentially insert key words that can influence false positive tags to appear. Maybe instead of substituting or inserting new tokens, let's try simply swapping machine learning related keywords with their aliases. We'll use Snorkel's [transformation functions](https://www.snorkel.org/use-cases/02-spam-data-augmentation-tutorial) to easily achieve this."
   ]
  },
  {
   "cell_type": "code",
   "execution_count": 76,
   "metadata": {
    "id": "hGcCAtujGANL"
   },
   "outputs": [],
   "source": [
    "# Replace dashes from tags & aliases\n",
    "def replace_dash(x):\n",
    "    return x.replace(\"-\", \" \")"
   ]
  },
  {
   "cell_type": "code",
   "execution_count": 77,
   "metadata": {
    "id": "ySubiFfONtvR"
   },
   "outputs": [],
   "source": [
    "# Aliases\n",
    "aliases_by_tag = {\n",
    "    \"computer-vision\": [\"cv\", \"vision\"],\n",
    "    \"mlops\": [\"production\"],\n",
    "    \"natural-language-processing\": [\"nlp\", \"nlproc\"]\n",
    "}"
   ]
  },
  {
   "cell_type": "code",
   "execution_count": 78,
   "metadata": {
    "id": "YLComLRexHTN"
   },
   "outputs": [],
   "source": [
    "# Flatten dict\n",
    "flattened_aliases = {}\n",
    "for tag, aliases in aliases_by_tag.items():\n",
    "    tag = replace_dash(x=tag)\n",
    "    if len(aliases):\n",
    "        flattened_aliases[tag] = aliases\n",
    "    for alias in aliases:\n",
    "        _aliases = aliases + [tag]\n",
    "        _aliases.remove(alias)\n",
    "        flattened_aliases[alias] = _aliases"
   ]
  },
  {
   "cell_type": "code",
   "execution_count": 79,
   "metadata": {
    "colab": {
     "base_uri": "https://localhost:8080/"
    },
    "id": "7DYNe7grG4Y-",
    "outputId": "7a0b3391-93ef-460d-b078-14c4084025bc"
   },
   "outputs": [
    {
     "name": "stdout",
     "output_type": "stream",
     "text": [
      "['nlp', 'nlproc']\n",
      "['nlproc', 'natural language processing']\n"
     ]
    }
   ],
   "source": [
    "print (flattened_aliases[\"natural language processing\"])\n",
    "print (flattened_aliases[\"nlp\"])"
   ]
  },
  {
   "cell_type": "markdown",
   "metadata": {
    "id": "D2AgsnG-FEs9"
   },
   "source": [
    "> For now we'll use tags and aliases as they are in `aliases_by_tag` but we could account for plurality of tags using the [inflect](https://github.com/jaraco/inflect) package or apply stemming before replacing aliases, etc."
   ]
  },
  {
   "cell_type": "code",
   "execution_count": 80,
   "metadata": {
    "colab": {
     "base_uri": "https://localhost:8080/"
    },
    "id": "E2QdYOXSY55L",
    "outputId": "e8cb7d17-bdd8-48d5-a156-3617000a9929"
   },
   "outputs": [
    {
     "name": "stdout",
     "output_type": "stream",
     "text": [
      "True\n",
      "True\n"
     ]
    }
   ],
   "source": [
    "# We want to match with the whole word only\n",
    "print (\"gan\" in \"This is a gan.\")\n",
    "print (\"gan\" in \"This is gandalf.\")"
   ]
  },
  {
   "cell_type": "code",
   "execution_count": 81,
   "metadata": {
    "id": "MHtHER09W8ew"
   },
   "outputs": [],
   "source": [
    "# \\b matches spaces\n",
    "def find_word(word, text):\n",
    "    word = word.replace(\"+\", \"\\+\")\n",
    "    pattern = re.compile(fr\"\\b({word})\\b\", flags=re.IGNORECASE)\n",
    "    return pattern.search(text)"
   ]
  },
  {
   "cell_type": "code",
   "execution_count": 82,
   "metadata": {
    "colab": {
     "base_uri": "https://localhost:8080/"
    },
    "id": "4zTuKPuRXTRO",
    "outputId": "fc469e63-5e34-48bd-ff44-2376cca33714"
   },
   "outputs": [
    {
     "name": "stdout",
     "output_type": "stream",
     "text": [
      "<re.Match object; span=(10, 13), match='gan'>\n",
      "None\n"
     ]
    }
   ],
   "source": [
    "# Correct behavior (single instance)\n",
    "print (find_word(\"gan\", \"This is a gan.\"))\n",
    "print (find_word(\"gan\", \"This is gandalf.\"))"
   ]
  },
  {
   "cell_type": "markdown",
   "metadata": {
    "id": "4oN1tkS7oV4L"
   },
   "source": [
    "Now let's use snorkel's [`transformation_function`](https://snorkel.readthedocs.io/en/latest/packages/_autosummary/augmentation/snorkel.augmentation.transformation_function.html) to systematically apply this transformation to our data."
   ]
  },
  {
   "cell_type": "code",
   "execution_count": 83,
   "metadata": {
    "id": "dSPra7OcHsd7"
   },
   "outputs": [],
   "source": [
    "from snorkel.augmentation import transformation_function"
   ]
  },
  {
   "cell_type": "code",
   "execution_count": 84,
   "metadata": {
    "id": "2r0f6iqeoNSh"
   },
   "outputs": [],
   "source": [
    "@transformation_function()\n",
    "def swap_aliases(x):\n",
    "    \"\"\"Swap ML keywords with their aliases.\"\"\" \n",
    "    # Find all matches\n",
    "    matches = []\n",
    "    for i, tag in enumerate(flattened_aliases):\n",
    "        match = find_word(tag, x.text)  \n",
    "        if match:\n",
    "            matches.append(match)\n",
    "    # Swap a random match with a random alias\n",
    "    if len(matches):\n",
    "        match = random.choice(matches)\n",
    "        tag = x.text[match.start():match.end()]\n",
    "        x.text = f\"{x.text[:match.start()]}{random.choice(flattened_aliases[tag])}{x.text[match.end():]}\"\n",
    "    return x"
   ]
  },
  {
   "cell_type": "code",
   "execution_count": 85,
   "metadata": {
    "colab": {
     "base_uri": "https://localhost:8080/"
    },
    "id": "4Hnuu4LZqgxS",
    "outputId": "524316ed-804d-4475-9248-b2c1752b051d"
   },
   "outputs": [
    {
     "name": "stdout",
     "output_type": "stream",
     "text": [
      "survey reinforcement learning nlproc tasks\n",
      "survey reinforcement learning nlproc tasks\n",
      "survey reinforcement learning natural language processing tasks\n"
     ]
    }
   ],
   "source": [
    "# Swap\n",
    "for i in range(3):\n",
    "    sample_df = pd.DataFrame([{\"text\": \"a survey of reinforcement learning for nlp tasks.\"}])\n",
    "    sample_df.text = sample_df.text.apply(clean_text, lower=True, stem=False)\n",
    "    print (swap_aliases(sample_df.iloc[0]).text)"
   ]
  },
  {
   "cell_type": "code",
   "execution_count": 86,
   "metadata": {
    "colab": {
     "base_uri": "https://localhost:8080/"
    },
    "id": "Zb1PkpxE3jrP",
    "outputId": "a09047c8-881a-4ed8-f0c8-a0f17b0b7934"
   },
   "outputs": [
    {
     "name": "stdout",
     "output_type": "stream",
     "text": [
      "autogenerate cv apply jobs using nlproc\n",
      "autogenerate cv apply jobs using natural language processing\n",
      "autogenerate computer vision apply jobs using nlp\n"
     ]
    }
   ],
   "source": [
    "# Undesired behavior (needs contextual insight)\n",
    "for i in range(3):\n",
    "    sample_df = pd.DataFrame([{\"text\": \"Autogenerate your CV to apply for jobs using NLP.\"}])\n",
    "    sample_df.text = sample_df.text.apply(clean_text, lower=True, stem=False)\n",
    "    print (swap_aliases(sample_df.iloc[0]).text)"
   ]
  },
  {
   "cell_type": "markdown",
   "metadata": {
    "id": "7C0z19mFBswx"
   },
   "source": [
    "Now we'll define a [augmentation policy](https://snorkel.readthedocs.io/en/latest/packages/augmentation.html) to apply our transformation functions with certain rules (how many samples to generate, whether to keep the original data point, etc.)"
   ]
  },
  {
   "cell_type": "code",
   "execution_count": 87,
   "metadata": {
    "id": "8Cwju3KrnH7O"
   },
   "outputs": [],
   "source": [
    "from snorkel.augmentation import ApplyOnePolicy, PandasTFApplier"
   ]
  },
  {
   "cell_type": "code",
   "execution_count": 88,
   "metadata": {
    "colab": {
     "base_uri": "https://localhost:8080/",
     "height": 224
    },
    "id": "NitY8I8jlg-f",
    "outputId": "f92744c2-4cd9-421a-eeda-e89a8216f3c5"
   },
   "outputs": [
    {
     "name": "stderr",
     "output_type": "stream",
     "text": [
      "100%|███████████████████████████████████████████████████████████████████████████████| 668/668 [00:00<00:00, 821.07it/s]\n"
     ]
    },
    {
     "data": {
      "text/html": [
       "<div>\n",
       "<style scoped>\n",
       "    .dataframe tbody tr th:only-of-type {\n",
       "        vertical-align: middle;\n",
       "    }\n",
       "\n",
       "    .dataframe tbody tr th {\n",
       "        vertical-align: top;\n",
       "    }\n",
       "\n",
       "    .dataframe thead th {\n",
       "        text-align: right;\n",
       "    }\n",
       "</style>\n",
       "<table border=\"1\" class=\"dataframe\">\n",
       "  <thead>\n",
       "    <tr style=\"text-align: right;\">\n",
       "      <th></th>\n",
       "      <th>text</th>\n",
       "      <th>tag</th>\n",
       "    </tr>\n",
       "  </thead>\n",
       "  <tbody>\n",
       "    <tr>\n",
       "      <th>0</th>\n",
       "      <td>gpt 3 language model technical overview techni...</td>\n",
       "      <td>natural-language-processing</td>\n",
       "    </tr>\n",
       "    <tr>\n",
       "      <th>1</th>\n",
       "      <td>training batch norm batch norm experiments ide...</td>\n",
       "      <td>computer-vision</td>\n",
       "    </tr>\n",
       "    <tr>\n",
       "      <th>2</th>\n",
       "      <td>state transfer learning nlp post expands naacl...</td>\n",
       "      <td>natural-language-processing</td>\n",
       "    </tr>\n",
       "    <tr>\n",
       "      <th>2</th>\n",
       "      <td>state transfer learning nlproc post expands na...</td>\n",
       "      <td>natural-language-processing</td>\n",
       "    </tr>\n",
       "    <tr>\n",
       "      <th>2</th>\n",
       "      <td>state transfer learning natural language proce...</td>\n",
       "      <td>natural-language-processing</td>\n",
       "    </tr>\n",
       "  </tbody>\n",
       "</table>\n",
       "</div>"
      ],
      "text/plain": [
       "                                                text  \\\n",
       "0  gpt 3 language model technical overview techni...   \n",
       "1  training batch norm batch norm experiments ide...   \n",
       "2  state transfer learning nlp post expands naacl...   \n",
       "2  state transfer learning nlproc post expands na...   \n",
       "2  state transfer learning natural language proce...   \n",
       "\n",
       "                           tag  \n",
       "0  natural-language-processing  \n",
       "1              computer-vision  \n",
       "2  natural-language-processing  \n",
       "2  natural-language-processing  \n",
       "2  natural-language-processing  "
      ]
     },
     "execution_count": 88,
     "metadata": {},
     "output_type": "execute_result"
    }
   ],
   "source": [
    "# Transformation function (TF) policy\n",
    "policy = ApplyOnePolicy(n_per_original=5, keep_original=True)\n",
    "tf_applier = PandasTFApplier([swap_aliases], policy)\n",
    "train_df_augmented = tf_applier.apply(train_df)\n",
    "train_df_augmented.drop_duplicates(subset=[\"text\"], inplace=True)\n",
    "train_df_augmented.head()"
   ]
  },
  {
   "cell_type": "code",
   "execution_count": 89,
   "metadata": {
    "colab": {
     "base_uri": "https://localhost:8080/"
    },
    "id": "UhCHE2eCnXf9",
    "outputId": "da60c4ef-d532-446b-9b41-0cc561089d4f"
   },
   "outputs": [
    {
     "data": {
      "text/plain": [
       "(668, 910)"
      ]
     },
     "execution_count": 89,
     "metadata": {},
     "output_type": "execute_result"
    }
   ],
   "source": [
    "len(train_df), len(train_df_augmented)"
   ]
  },
  {
   "cell_type": "markdown",
   "metadata": {
    "id": "XAgm9USuoQUF"
   },
   "source": [
    "For now, we'll skip the data augmentation because it's quite fickle and empirically it doesn't improvement performance much. But we can see how this can be very effective once we can control what type of vocabulary to augment on and what exactly to augment with.\n",
    "\n",
    "> Regardless of what method we use, it's important to validate that we're not just augmenting for the sake of augmentation. We can do this by executing any existing [data validation tests](https://madewithml.com/courses/mlops/testing#data) and even creating specific tests to apply on augmented data."
   ]
  },
  {
   "cell_type": "markdown",
   "metadata": {},
   "source": [
    "## Baselines"
   ]
  },
  {
   "cell_type": "code",
   "execution_count": 90,
   "metadata": {},
   "outputs": [],
   "source": [
    "import random"
   ]
  },
  {
   "cell_type": "code",
   "execution_count": 91,
   "metadata": {},
   "outputs": [],
   "source": [
    "def set_seeds(seed=42):\n",
    "    \"\"\"\n",
    "    setting seeds for reproducibility\n",
    "    \"\"\"\n",
    "    \n",
    "    np.random.seed(seed)\n",
    "    random.seed(42)\n",
    "    \n"
   ]
  },
  {
   "cell_type": "code",
   "execution_count": 103,
   "metadata": {},
   "outputs": [],
   "source": [
    "def preprocess(df,lower,stem,min_freq):\n",
    "    \"\"\"\n",
    "        Preprocess the text\n",
    "    \"\"\"\n",
    "    \n",
    "    df[\"text\"] = df.title + \" \" + df.description # feat ENGG\n",
    "    \n",
    "    df.text = df.text.apply(clean_text, lower=lower, stem=stem) #Clearning the texrt\n",
    "    \n",
    "    # Replace OOS tags with `other`\n",
    "    \n",
    "    oos_tags =  [ item for  item in df.tag.unique() if item not in ACCEPTED_TAGS ]  \n",
    "    \n",
    "    df.tag = df.tag.apply(lambda x : \"other\" if x in oos_tags else x ) \n",
    "    \n",
    "    # Replace tags below min_freq with `other`\n",
    "    tags_above_freq  = Counter(tag  for tag in tags.elements() if (tags[tag] >=min_freq) ) \n",
    "    \n",
    "    df.tag = df.tag.apply(lambda tag: tag if tag in tags_above_freq else None)\n",
    "    df.tag = df.tag.fillna(\"other\")\n",
    "\n",
    "    return df\n",
    "    \n",
    "    \n",
    "    "
   ]
  },
  {
   "cell_type": "code",
   "execution_count": 99,
   "metadata": {},
   "outputs": [],
   "source": [
    "def get_data_splits(X, y, train_size=0.7):\n",
    "    \"\"\"Generate balanced data splits.\"\"\"\n",
    "    X_train, X_, y_train, y_ = train_test_split(\n",
    "        X, y, train_size=train_size, stratify=y)\n",
    "    X_val, X_test, y_val, y_test = train_test_split(\n",
    "        X_, y_, train_size=0.5, stratify=y_)\n",
    "    return X_train, X_val, X_test, y_train, y_val, y_test\n"
   ]
  },
  {
   "cell_type": "markdown",
   "metadata": {},
   "source": [
    "Our dataset is small so we'll train using the whole dataset but for larger datasets, we should always test on a small subset (after shuffling when necessary) so we aren't wasting time on compute."
   ]
  },
  {
   "cell_type": "code",
   "execution_count": null,
   "metadata": {},
   "outputs": [],
   "source": [
    "df = df.sample(frac=1).reset_index(drop=True)  # shuffle\n",
    "df = df[: num_samples]  # None = all samples\n"
   ]
  },
  {
   "cell_type": "markdown",
   "metadata": {},
   "source": [
    "## Random"
   ]
  },
  {
   "cell_type": "code",
   "execution_count": 100,
   "metadata": {},
   "outputs": [],
   "source": [
    "from sklearn.metrics import precision_recall_fscore_support\n"
   ]
  },
  {
   "cell_type": "code",
   "execution_count": 104,
   "metadata": {},
   "outputs": [],
   "source": [
    "# Set up\n",
    "set_seeds()\n",
    "df = pd.read_csv(\"labeled_projects.csv\")\n",
    "df = df.sample(frac=1).reset_index(drop=True)\n",
    "df = preprocess(df, lower=True, stem=False, min_freq=min_freq)\n",
    "label_encoder = LabelEncoder().fit(df.tag)\n",
    "X_train, X_val, X_test, y_train, y_val, y_test = \\\n",
    "    get_data_splits(X=df.text.to_numpy(), y=label_encoder.encode(df.tag))\n"
   ]
  },
  {
   "cell_type": "code",
   "execution_count": 106,
   "metadata": {},
   "outputs": [
    {
     "name": "stdout",
     "output_type": "stream",
     "text": [
      "<LabelEncoder(num_classes=4)>\n",
      "['computer-vision', 'mlops', 'natural-language-processing', 'other']\n"
     ]
    }
   ],
   "source": [
    "# Label encoder\n",
    "print (label_encoder)\n",
    "print (label_encoder.classes)\n"
   ]
  },
  {
   "cell_type": "code",
   "execution_count": 107,
   "metadata": {},
   "outputs": [
    {
     "name": "stdout",
     "output_type": "stream",
     "text": [
      "(144,)\n",
      "[2 2 1 3 3]\n"
     ]
    }
   ],
   "source": [
    "# Generate random predictions\n",
    "y_pred = np.random.randint(low=0, high=len(label_encoder), size=len(y_test))\n",
    "print (y_pred.shape)\n",
    "print (y_pred[0:5])\n"
   ]
  },
  {
   "cell_type": "code",
   "execution_count": 108,
   "metadata": {},
   "outputs": [
    {
     "name": "stdout",
     "output_type": "stream",
     "text": [
      "{\n",
      "  \"precision\": 0.2844744487889649,\n",
      "  \"recall\": 0.22916666666666666,\n",
      "  \"f1\": 0.24552884283001275\n",
      "}\n"
     ]
    }
   ],
   "source": [
    "# Evaluate\n",
    "metrics = precision_recall_fscore_support(y_test, y_pred, average=\"weighted\")\n",
    "performance = {\"precision\": metrics[0], \"recall\": metrics[1], \"f1\": metrics[2]}\n",
    "print (json.dumps(performance, indent=2))\n"
   ]
  },
  {
   "cell_type": "code",
   "execution_count": 109,
   "metadata": {},
   "outputs": [
    {
     "data": {
      "text/plain": [
       "[0.375, 0.08333333333333333, 0.4027777777777778, 0.1388888888888889]"
      ]
     },
     "execution_count": 109,
     "metadata": {},
     "output_type": "execute_result"
    }
   ],
   "source": [
    "# Class frequencies\n",
    "p = [Counter(y_test)[index]/len(y_test) for index in range(len(label_encoder))]\n",
    "p\n"
   ]
  },
  {
   "cell_type": "code",
   "execution_count": 110,
   "metadata": {},
   "outputs": [],
   "source": [
    "# Generate weighted random predictions\n",
    "y_pred = np.random.choice(a=range(len(label_encoder)), size=len(y_test), p=p)\n"
   ]
  },
  {
   "cell_type": "code",
   "execution_count": 111,
   "metadata": {},
   "outputs": [
    {
     "name": "stdout",
     "output_type": "stream",
     "text": [
      "{\n",
      "  \"precision\": 0.3294211281499417,\n",
      "  \"recall\": 0.3194444444444444,\n",
      "  \"f1\": 0.3239553132352485\n",
      "}\n"
     ]
    }
   ],
   "source": [
    "# Evaluate\n",
    "metrics = precision_recall_fscore_support(y_test, y_pred, average=\"weighted\")\n",
    "performance = {\"precision\": metrics[0], \"recall\": metrics[1], \"f1\": metrics[2]}\n",
    "print (json.dumps(performance, indent=2))\n"
   ]
  },
  {
   "cell_type": "markdown",
   "metadata": {},
   "source": [
    "limitations: we didn't use the tokens in our input to affect our predictions so nothing was learned."
   ]
  },
  {
   "cell_type": "markdown",
   "metadata": {},
   "source": [
    "## Rule-based"
   ]
  },
  {
   "cell_type": "markdown",
   "metadata": {},
   "source": [
    "motivation: we want to use signals in our inputs (along with domain expertise and auxiliary data) to determine the labels."
   ]
  },
  {
   "cell_type": "code",
   "execution_count": 112,
   "metadata": {},
   "outputs": [],
   "source": [
    "# Setup\n",
    "set_seeds()\n",
    "df = pd.read_csv(\"labeled_projects.csv\")\n",
    "df = df.sample(frac=1).reset_index(drop=True)\n",
    "df = preprocess(df, lower=True, stem=False, min_freq=min_freq)\n",
    "label_encoder = LabelEncoder().fit(df.tag)\n",
    "X_train, X_val, X_test, y_train, y_val, y_test = \\\n",
    "    get_data_splits(X=df.text.to_numpy(), y=label_encoder.encode(df.tag))\n"
   ]
  },
  {
   "cell_type": "code",
   "execution_count": 113,
   "metadata": {},
   "outputs": [],
   "source": [
    "def get_tag(text, aliases_by_tag):\n",
    "    \"\"\"If a token matches an alias,\n",
    "    then add the corresponding tag class.\"\"\"\n",
    "    for tag, aliases in aliases_by_tag.items():\n",
    "        if replace_dash(tag) in text:\n",
    "            return tag\n",
    "        for alias in aliases:\n",
    "            if alias in text:\n",
    "                return tag\n",
    "    return None\n"
   ]
  },
  {
   "cell_type": "code",
   "execution_count": 114,
   "metadata": {},
   "outputs": [
    {
     "data": {
      "text/plain": [
       "'natural-language-processing'"
      ]
     },
     "execution_count": 114,
     "metadata": {},
     "output_type": "execute_result"
    }
   ],
   "source": [
    "# Sample\n",
    "text = \"A pretrained model hub for popular nlp models.\"\n",
    "get_tag(text=clean_text(text), aliases_by_tag=aliases_by_tag)\n"
   ]
  },
  {
   "cell_type": "code",
   "execution_count": 116,
   "metadata": {},
   "outputs": [],
   "source": [
    "# Prediction\n",
    "tags1 = []\n",
    "for text in X_test:\n",
    "    tag = get_tag(text, aliases_by_tag=aliases_by_tag)\n",
    "    tags1.append(tag)\n"
   ]
  },
  {
   "cell_type": "code",
   "execution_count": 117,
   "metadata": {},
   "outputs": [],
   "source": [
    "# Encode labels\n",
    "y_pred = [label_encoder.class_to_index[tag] if tag is not None else -1 for tag in tags1]\n"
   ]
  },
  {
   "cell_type": "code",
   "execution_count": 118,
   "metadata": {},
   "outputs": [
    {
     "name": "stdout",
     "output_type": "stream",
     "text": [
      "{\n",
      "  \"precision\": 0.8611111111111112,\n",
      "  \"recall\": 0.1597222222222222,\n",
      "  \"f1\": 0.2600750175139683\n",
      "}\n"
     ]
    }
   ],
   "source": [
    "# Evaluate\n",
    "metrics = precision_recall_fscore_support(y_test, y_pred, average=\"weighted\")\n",
    "performance = {\"precision\": metrics[0], \"recall\": metrics[1], \"f1\": metrics[2]}\n",
    "print (json.dumps(performance, indent=2))\n"
   ]
  },
  {
   "cell_type": "code",
   "execution_count": 119,
   "metadata": {},
   "outputs": [
    {
     "name": "stdout",
     "output_type": "stream",
     "text": [
      "None\n"
     ]
    }
   ],
   "source": [
    "# Pitfalls\n",
    "text = \"Transfer learning with transformers for text classification.\"\n",
    "print (get_tag(text=clean_text(text), aliases_by_tag=aliases_by_tag))\n"
   ]
  },
  {
   "cell_type": "markdown",
   "metadata": {},
   "source": [
    "## Vectorization"
   ]
  },
  {
   "cell_type": "markdown",
   "metadata": {},
   "source": [
    "motivation:\n",
    "\n",
    "representation: use term frequency-inverse document frequency (TF-IDF) to capture the significance of a token to a particular input with respect to all the inputs, as opposed to treating the words in our input text as isolated tokens.\n",
    "\n",
    "\n",
    "architecture: we want our model to meaningfully extract the encoded signal to predict the output labels."
   ]
  },
  {
   "cell_type": "code",
   "execution_count": 120,
   "metadata": {},
   "outputs": [],
   "source": [
    "from sklearn.feature_extraction.text import TfidfVectorizer\n"
   ]
  },
  {
   "cell_type": "code",
   "execution_count": 126,
   "metadata": {},
   "outputs": [],
   "source": [
    "# Setup\n",
    "set_seeds()\n",
    "df = pd.read_csv(\"labeled_projects.csv\")\n",
    "df = df.sample(frac=1).reset_index(drop=True)\n",
    "df = preprocess(df, lower=True, stem=False, min_freq=min_freq)\n",
    "label_encoder = LabelEncoder().fit(df.tag)\n",
    "X_train, X_val, X_test, y_train, y_val, y_test = \\\n",
    "    get_data_splits(X=df.text.to_numpy(), y=label_encoder.encode(df.tag))\n"
   ]
  },
  {
   "cell_type": "code",
   "execution_count": 127,
   "metadata": {},
   "outputs": [],
   "source": [
    "# Saving raw X_test to compare with later\n",
    "X_test_raw = X_test\n"
   ]
  },
  {
   "cell_type": "code",
   "execution_count": 128,
   "metadata": {},
   "outputs": [
    {
     "name": "stdout",
     "output_type": "stream",
     "text": [
      "laplacian pyramid reconstruction refinement semantic seg pytorch implementation multi resolution reconstruction architecture based laplacian pyramid uses skip connections\n",
      "(668, 98496)\n"
     ]
    }
   ],
   "source": [
    "# Tf-idf\n",
    "vectorizer = TfidfVectorizer(analyzer=\"char\", ngram_range=(2,7))  # char n-grams\n",
    "print (X_train[0])\n",
    "X_train = vectorizer.fit_transform(X_train)\n",
    "X_val = vectorizer.transform(X_val)\n",
    "X_test = vectorizer.transform(X_test)\n",
    "print (X_train.shape)  # scipy.sparse.csr_matrix\n"
   ]
  },
  {
   "cell_type": "code",
   "execution_count": 129,
   "metadata": {},
   "outputs": [
    {
     "name": "stdout",
     "output_type": "stream",
     "text": [
      "class counts: [249  55 272  92],\n",
      "class weights: {0: 0.004016064257028112, 1: 0.01818181818181818, 2: 0.003676470588235294, 3: 0.010869565217391304}\n"
     ]
    }
   ],
   "source": [
    "# Class weights\n",
    "counts = np.bincount(y_train)\n",
    "class_weights = {i: 1.0/count for i, count in enumerate(counts)}\n",
    "print (f\"class counts: {counts},\\nclass weights: {class_weights}\")\n"
   ]
  },
  {
   "cell_type": "markdown",
   "metadata": {},
   "source": [
    "## Data imbalance"
   ]
  },
  {
   "cell_type": "code",
   "execution_count": 130,
   "metadata": {},
   "outputs": [
    {
     "name": "stderr",
     "output_type": "stream",
     "text": [
      "WARNING: Ignoring invalid distribution -matplotlib (c:\\users\\acer\\appdata\\local\\programs\\python\\python39\\lib\\site-packages)\n",
      "WARNING: Ignoring invalid distribution -atplotlib (c:\\users\\acer\\appdata\\local\\programs\\python\\python39\\lib\\site-packages)\n",
      "WARNING: Ignoring invalid distribution -matplotlib (c:\\users\\acer\\appdata\\local\\programs\\python\\python39\\lib\\site-packages)\n",
      "WARNING: Ignoring invalid distribution -atplotlib (c:\\users\\acer\\appdata\\local\\programs\\python\\python39\\lib\\site-packages)\n",
      "WARNING: Ignoring invalid distribution -matplotlib (c:\\users\\acer\\appdata\\local\\programs\\python\\python39\\lib\\site-packages)\n",
      "WARNING: Ignoring invalid distribution -atplotlib (c:\\users\\acer\\appdata\\local\\programs\\python\\python39\\lib\\site-packages)\n",
      "WARNING: Ignoring invalid distribution -matplotlib (c:\\users\\acer\\appdata\\local\\programs\\python\\python39\\lib\\site-packages)\n",
      "WARNING: Ignoring invalid distribution -atplotlib (c:\\users\\acer\\appdata\\local\\programs\\python\\python39\\lib\\site-packages)\n",
      "WARNING: Ignoring invalid distribution -matplotlib (c:\\users\\acer\\appdata\\local\\programs\\python\\python39\\lib\\site-packages)\n",
      "WARNING: Ignoring invalid distribution -atplotlib (c:\\users\\acer\\appdata\\local\\programs\\python\\python39\\lib\\site-packages)\n",
      "WARNING: Ignoring invalid distribution -matplotlib (c:\\users\\acer\\appdata\\local\\programs\\python\\python39\\lib\\site-packages)\n",
      "WARNING: Ignoring invalid distribution -atplotlib (c:\\users\\acer\\appdata\\local\\programs\\python\\python39\\lib\\site-packages)\n",
      "\n",
      "[notice] A new release of pip is available: 23.0.1 -> 23.1.2\n",
      "[notice] To update, run: python.exe -m pip install --upgrade pip\n"
     ]
    }
   ],
   "source": [
    "!pip install imbalanced-learn==0.8.1 -q"
   ]
  },
  {
   "cell_type": "code",
   "execution_count": 132,
   "metadata": {},
   "outputs": [],
   "source": [
    "# Oversample (training set)\n",
    "from imblearn.over_sampling import RandomOverSampler\n",
    "\n",
    "oversample = RandomOverSampler(sampling_strategy=\"all\")\n",
    "X_over, y_over = oversample.fit_resample(X_train, y_train)\n"
   ]
  },
  {
   "cell_type": "code",
   "execution_count": 133,
   "metadata": {},
   "outputs": [
    {
     "name": "stdout",
     "output_type": "stream",
     "text": [
      "class counts: [272 272 272 272],\n",
      "class weights: {0: 0.003676470588235294, 1: 0.003676470588235294, 2: 0.003676470588235294, 3: 0.003676470588235294}\n"
     ]
    }
   ],
   "source": [
    "# Class weights\n",
    "counts = np.bincount(y_over)\n",
    "class_weights = {i: 1.0/count for i, count in enumerate(counts)}\n",
    "print (f\"class counts: {counts},\\nclass weights: {class_weights}\")\n"
   ]
  },
  {
   "cell_type": "markdown",
   "metadata": {},
   "source": [
    "## Machine Learning"
   ]
  },
  {
   "cell_type": "code",
   "execution_count": 134,
   "metadata": {},
   "outputs": [],
   "source": [
    "from sklearn import metrics\n",
    "from sklearn.linear_model import SGDClassifier\n",
    "from sklearn.metrics import log_loss, precision_recall_fscore_support\n"
   ]
  },
  {
   "cell_type": "code",
   "execution_count": 135,
   "metadata": {},
   "outputs": [],
   "source": [
    "# Initialize model\n",
    "model = SGDClassifier(\n",
    "    loss=\"log\", penalty=\"l2\", alpha=1e-4, max_iter=1,\n",
    "    learning_rate=\"constant\", eta0=1e-1, power_t=0.1,\n",
    "    warm_start=True)\n"
   ]
  },
  {
   "cell_type": "code",
   "execution_count": 136,
   "metadata": {},
   "outputs": [
    {
     "name": "stdout",
     "output_type": "stream",
     "text": [
      "Epoch: 00 | train_loss: 1.16783, val_loss: 1.20177\n",
      "Epoch: 10 | train_loss: 0.46262, val_loss: 0.62612\n",
      "Epoch: 20 | train_loss: 0.31599, val_loss: 0.51986\n",
      "Epoch: 30 | train_loss: 0.25191, val_loss: 0.47544\n",
      "Epoch: 40 | train_loss: 0.21720, val_loss: 0.45176\n",
      "Epoch: 50 | train_loss: 0.19610, val_loss: 0.43770\n",
      "Epoch: 60 | train_loss: 0.18221, val_loss: 0.42857\n",
      "Epoch: 70 | train_loss: 0.17291, val_loss: 0.42246\n",
      "Epoch: 80 | train_loss: 0.16643, val_loss: 0.41818\n",
      "Epoch: 90 | train_loss: 0.16160, val_loss: 0.41528\n"
     ]
    }
   ],
   "source": [
    "# Train model\n",
    "num_epochs = 100\n",
    "for epoch in range(num_epochs):\n",
    "    # Training\n",
    "    model.fit(X_over, y_over)\n",
    "\n",
    "    # Evaluation\n",
    "    train_loss = log_loss(y_train, model.predict_proba(X_train))\n",
    "    val_loss = log_loss(y_val, model.predict_proba(X_val))\n",
    "\n",
    "    if not epoch%10:\n",
    "        print(\n",
    "            f\"Epoch: {epoch:02d} | \"\n",
    "            f\"train_loss: {train_loss:.5f}, \"\n",
    "            f\"val_loss: {val_loss:.5f}\"\n",
    "        )\n"
   ]
  },
  {
   "cell_type": "code",
   "execution_count": 137,
   "metadata": {},
   "outputs": [
    {
     "name": "stdout",
     "output_type": "stream",
     "text": [
      "{\n",
      "  \"precision\": 0.8895157525375742,\n",
      "  \"recall\": 0.8888888888888888,\n",
      "  \"f1\": 0.887320081070081\n",
      "}\n"
     ]
    }
   ],
   "source": [
    "# Evaluate\n",
    "y_pred = model.predict(X_test)\n",
    "metrics = precision_recall_fscore_support(y_test, y_pred, average=\"weighted\")\n",
    "performance = {\"precision\": metrics[0], \"recall\": metrics[1], \"f1\": metrics[2]}\n",
    "print (json.dumps(performance, indent=2))\n"
   ]
  },
  {
   "cell_type": "code",
   "execution_count": 138,
   "metadata": {},
   "outputs": [
    {
     "data": {
      "text/plain": [
       "['natural-language-processing']"
      ]
     },
     "execution_count": 138,
     "metadata": {},
     "output_type": "execute_result"
    }
   ],
   "source": [
    "# Inference (with tokens similar to training data)\n",
    "text = \"Transfer learning with transformers for text classification.\"\n",
    "y_pred = model.predict(vectorizer.transform([text]))\n",
    "label_encoder.decode(y_pred)\n"
   ]
  },
  {
   "cell_type": "code",
   "execution_count": 139,
   "metadata": {},
   "outputs": [
    {
     "data": {
      "text/plain": [
       "{'computer-vision': 0.032693612917747646,\n",
       " 'mlops': 0.0034124378175269298,\n",
       " 'natural-language-processing': 0.9525596587621376,\n",
       " 'other': 0.01133429050258778}"
      ]
     },
     "execution_count": 139,
     "metadata": {},
     "output_type": "execute_result"
    }
   ],
   "source": [
    "# Probabilities\n",
    "y_prob = model.predict_proba(vectorizer.transform([text]))\n",
    "{tag:y_prob[0][i] for i, tag in enumerate(label_encoder.classes)}\n"
   ]
  },
  {
   "cell_type": "code",
   "execution_count": 140,
   "metadata": {},
   "outputs": [
    {
     "data": {
      "text/plain": [
       "['natural-language-processing']"
      ]
     },
     "execution_count": 140,
     "metadata": {},
     "output_type": "execute_result"
    }
   ],
   "source": [
    "# Inference (with tokens not similar to training data)\n",
    "text = \"Interpretability methods for explaining model behavior.\"\n",
    "y_pred = model.predict(vectorizer.transform([text]))\n",
    "label_encoder.decode(y_pred)\n"
   ]
  },
  {
   "cell_type": "code",
   "execution_count": 141,
   "metadata": {},
   "outputs": [
    {
     "data": {
      "text/plain": [
       "{'computer-vision': 0.1558952586187616,\n",
       " 'mlops': 0.10199079528804642,\n",
       " 'natural-language-processing': 0.6498181711246135,\n",
       " 'other': 0.09229577496857859}"
      ]
     },
     "execution_count": 141,
     "metadata": {},
     "output_type": "execute_result"
    }
   ],
   "source": [
    "# Probabilities\n",
    "y_prob = model.predict_proba(vectorizer.transform([text]))\n",
    "{tag:y_prob[0][i] for i, tag in enumerate(label_encoder.classes)}\n"
   ]
  },
  {
   "cell_type": "markdown",
   "metadata": {},
   "source": [
    "We're going to create a custom predict function where if the majority class is not above a certain softmax score, then we predict the other class. In our objectives, we decided that precision is really important for us and that we can leverage the labeling and QA workflows to improve the recall during subsequent manual inspection."
   ]
  },
  {
   "cell_type": "code",
   "execution_count": 142,
   "metadata": {},
   "outputs": [
    {
     "data": {
      "text/plain": [
       "0.6742890218960005"
      ]
     },
     "execution_count": 142,
     "metadata": {},
     "output_type": "execute_result"
    }
   ],
   "source": [
    "# Determine first quantile softmax score for the correct class (on validation split)\n",
    "y_pred = model.predict(X_val)\n",
    "y_prob = model.predict_proba(X_val)\n",
    "threshold = np.quantile([y_prob[i][j] for i, j in enumerate(y_pred)], q=0.25)  # Q1\n",
    "threshold\n"
   ]
  },
  {
   "cell_type": "code",
   "execution_count": 143,
   "metadata": {},
   "outputs": [],
   "source": [
    "# Custom predict function\n",
    "def custom_predict(y_prob, threshold, index):\n",
    "    \"\"\"Custom predict function that defaults\n",
    "    to an index if conditions are not met.\"\"\"\n",
    "    y_pred = [np.argmax(p) if max(p) > threshold else index for p in y_prob]\n",
    "    return np.array(y_pred)\n"
   ]
  },
  {
   "cell_type": "code",
   "execution_count": 147,
   "metadata": {},
   "outputs": [],
   "source": [
    "def predict_tag(texts):\n",
    "    y_prob = model.predict_proba(vectorizer.transform(texts))\n",
    "    other_index = label_encoder.class_to_index[\"other\"]\n",
    "    y_pred = custom_predict(y_prob=y_prob, threshold=threshold, index=other_index)\n",
    "    return label_encoder.decode(y_pred)\n"
   ]
  },
  {
   "cell_type": "code",
   "execution_count": 148,
   "metadata": {},
   "outputs": [
    {
     "data": {
      "text/plain": [
       "['other']"
      ]
     },
     "execution_count": 148,
     "metadata": {},
     "output_type": "execute_result"
    }
   ],
   "source": [
    "# Inference (with tokens not similar to training data)\n",
    "text = \"Interpretability methods for explaining model behavior.\"\n",
    "predict_tag(texts=[text])\n"
   ]
  },
  {
   "cell_type": "code",
   "execution_count": 150,
   "metadata": {},
   "outputs": [],
   "source": [
    "# # Evaluate\n",
    "# y_prob = model.predict_proba(X_test)\n",
    "# y_pred = custom_predict(y_prob=y_prob, threshold=threshold, index=other_index)\n",
    "# metrics = precision_recall_fscore_support(y_test, y_pred, average=\"weighted\")\n",
    "# performance = {\"precision\": metrics[0], \"recall\": metrics[1], \"f1\": metrics[2]}\n",
    "# print (json.dumps(performance, indent=2))\n"
   ]
  }
 ],
 "metadata": {
  "kernelspec": {
   "display_name": "MadewithML",
   "language": "python",
   "name": "madewithml"
  },
  "language_info": {
   "codemirror_mode": {
    "name": "ipython",
    "version": 3
   },
   "file_extension": ".py",
   "mimetype": "text/x-python",
   "name": "python",
   "nbconvert_exporter": "python",
   "pygments_lexer": "ipython3",
   "version": "3.9.10"
  }
 },
 "nbformat": 4,
 "nbformat_minor": 2
}
